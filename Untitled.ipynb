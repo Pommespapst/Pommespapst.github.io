{
 "cells": [
  {
   "cell_type": "code",
   "execution_count": 4,
   "metadata": {
    "hide_input": false,
    "scrolled": false
   },
   "outputs": [
    {
     "data": {
      "application/vnd.jupyter.widget-view+json": {
       "model_id": "65346df6a87f47e39e715e5d10ace68b",
       "version_major": 2,
       "version_minor": 0
      },
      "text/plain": [
       "FigureWidget({\n",
       "    'data': [{'hovertext': array(['JNB', 'CPT', 'DUR', ..., 'MLK', 'EDA', 'KXU'], dtype=object)…"
      ]
     },
     "metadata": {},
     "output_type": "display_data"
    },
    {
     "ename": "IndexError",
     "evalue": "tuple index out of range",
     "output_type": "error",
     "traceback": [
      "\u001b[1;31m---------------------------------------------------------------------------\u001b[0m",
      "\u001b[1;31mIndexError\u001b[0m                                Traceback (most recent call last)",
      "\u001b[1;32mc:\\users\\benjamin.portner\\appdata\\local\\programs\\python\\python36\\lib\\site-packages\\ipywidgets\\widgets\\widget.py\u001b[0m in \u001b[0;36m_handle_msg\u001b[1;34m(self, msg)\u001b[0m\n\u001b[0;32m    667\u001b[0m                 \u001b[1;32mif\u001b[0m \u001b[1;34m'buffer_paths'\u001b[0m \u001b[1;32min\u001b[0m \u001b[0mdata\u001b[0m\u001b[1;33m:\u001b[0m\u001b[1;33m\u001b[0m\u001b[0m\n\u001b[0;32m    668\u001b[0m                     \u001b[0m_put_buffers\u001b[0m\u001b[1;33m(\u001b[0m\u001b[0mstate\u001b[0m\u001b[1;33m,\u001b[0m \u001b[0mdata\u001b[0m\u001b[1;33m[\u001b[0m\u001b[1;34m'buffer_paths'\u001b[0m\u001b[1;33m]\u001b[0m\u001b[1;33m,\u001b[0m \u001b[0mmsg\u001b[0m\u001b[1;33m[\u001b[0m\u001b[1;34m'buffers'\u001b[0m\u001b[1;33m]\u001b[0m\u001b[1;33m)\u001b[0m\u001b[1;33m\u001b[0m\u001b[0m\n\u001b[1;32m--> 669\u001b[1;33m                 \u001b[0mself\u001b[0m\u001b[1;33m.\u001b[0m\u001b[0mset_state\u001b[0m\u001b[1;33m(\u001b[0m\u001b[0mstate\u001b[0m\u001b[1;33m)\u001b[0m\u001b[1;33m\u001b[0m\u001b[0m\n\u001b[0m\u001b[0;32m    670\u001b[0m \u001b[1;33m\u001b[0m\u001b[0m\n\u001b[0;32m    671\u001b[0m         \u001b[1;31m# Handle a state request.\u001b[0m\u001b[1;33m\u001b[0m\u001b[1;33m\u001b[0m\u001b[0m\n",
      "\u001b[1;32mc:\\users\\benjamin.portner\\appdata\\local\\programs\\python\\python36\\lib\\site-packages\\ipywidgets\\widgets\\widget.py\u001b[0m in \u001b[0;36mset_state\u001b[1;34m(self, sync_data)\u001b[0m\n\u001b[0;32m    537\u001b[0m                     from_json = self.trait_metadata(name, 'from_json',\n\u001b[0;32m    538\u001b[0m                                                     self._trait_from_json)\n\u001b[1;32m--> 539\u001b[1;33m                     \u001b[0mself\u001b[0m\u001b[1;33m.\u001b[0m\u001b[0mset_trait\u001b[0m\u001b[1;33m(\u001b[0m\u001b[0mname\u001b[0m\u001b[1;33m,\u001b[0m \u001b[0mfrom_json\u001b[0m\u001b[1;33m(\u001b[0m\u001b[0msync_data\u001b[0m\u001b[1;33m[\u001b[0m\u001b[0mname\u001b[0m\u001b[1;33m]\u001b[0m\u001b[1;33m,\u001b[0m \u001b[0mself\u001b[0m\u001b[1;33m)\u001b[0m\u001b[1;33m)\u001b[0m\u001b[1;33m\u001b[0m\u001b[0m\n\u001b[0m\u001b[0;32m    540\u001b[0m \u001b[1;33m\u001b[0m\u001b[0m\n\u001b[0;32m    541\u001b[0m     \u001b[1;32mdef\u001b[0m \u001b[0msend\u001b[0m\u001b[1;33m(\u001b[0m\u001b[0mself\u001b[0m\u001b[1;33m,\u001b[0m \u001b[0mcontent\u001b[0m\u001b[1;33m,\u001b[0m \u001b[0mbuffers\u001b[0m\u001b[1;33m=\u001b[0m\u001b[1;32mNone\u001b[0m\u001b[1;33m)\u001b[0m\u001b[1;33m:\u001b[0m\u001b[1;33m\u001b[0m\u001b[0m\n",
      "\u001b[1;32mc:\\users\\benjamin.portner\\appdata\\local\\programs\\python\\python36\\lib\\contextlib.py\u001b[0m in \u001b[0;36m__exit__\u001b[1;34m(self, type, value, traceback)\u001b[0m\n\u001b[0;32m     86\u001b[0m         \u001b[1;32mif\u001b[0m \u001b[0mtype\u001b[0m \u001b[1;32mis\u001b[0m \u001b[1;32mNone\u001b[0m\u001b[1;33m:\u001b[0m\u001b[1;33m\u001b[0m\u001b[0m\n\u001b[0;32m     87\u001b[0m             \u001b[1;32mtry\u001b[0m\u001b[1;33m:\u001b[0m\u001b[1;33m\u001b[0m\u001b[0m\n\u001b[1;32m---> 88\u001b[1;33m                 \u001b[0mnext\u001b[0m\u001b[1;33m(\u001b[0m\u001b[0mself\u001b[0m\u001b[1;33m.\u001b[0m\u001b[0mgen\u001b[0m\u001b[1;33m)\u001b[0m\u001b[1;33m\u001b[0m\u001b[0m\n\u001b[0m\u001b[0;32m     89\u001b[0m             \u001b[1;32mexcept\u001b[0m \u001b[0mStopIteration\u001b[0m\u001b[1;33m:\u001b[0m\u001b[1;33m\u001b[0m\u001b[0m\n\u001b[0;32m     90\u001b[0m                 \u001b[1;32mreturn\u001b[0m \u001b[1;32mFalse\u001b[0m\u001b[1;33m\u001b[0m\u001b[0m\n",
      "\u001b[1;32mc:\\users\\benjamin.portner\\appdata\\local\\programs\\python\\python36\\lib\\site-packages\\traitlets\\traitlets.py\u001b[0m in \u001b[0;36mhold_trait_notifications\u001b[1;34m(self)\u001b[0m\n\u001b[0;32m   1129\u001b[0m                 \u001b[1;32mfor\u001b[0m \u001b[0mchanges\u001b[0m \u001b[1;32min\u001b[0m \u001b[0mcache\u001b[0m\u001b[1;33m.\u001b[0m\u001b[0mvalues\u001b[0m\u001b[1;33m(\u001b[0m\u001b[1;33m)\u001b[0m\u001b[1;33m:\u001b[0m\u001b[1;33m\u001b[0m\u001b[0m\n\u001b[0;32m   1130\u001b[0m                     \u001b[1;32mfor\u001b[0m \u001b[0mchange\u001b[0m \u001b[1;32min\u001b[0m \u001b[0mchanges\u001b[0m\u001b[1;33m:\u001b[0m\u001b[1;33m\u001b[0m\u001b[0m\n\u001b[1;32m-> 1131\u001b[1;33m                         \u001b[0mself\u001b[0m\u001b[1;33m.\u001b[0m\u001b[0mnotify_change\u001b[0m\u001b[1;33m(\u001b[0m\u001b[0mchange\u001b[0m\u001b[1;33m)\u001b[0m\u001b[1;33m\u001b[0m\u001b[0m\n\u001b[0m\u001b[0;32m   1132\u001b[0m \u001b[1;33m\u001b[0m\u001b[0m\n\u001b[0;32m   1133\u001b[0m     \u001b[1;32mdef\u001b[0m \u001b[0m_notify_trait\u001b[0m\u001b[1;33m(\u001b[0m\u001b[0mself\u001b[0m\u001b[1;33m,\u001b[0m \u001b[0mname\u001b[0m\u001b[1;33m,\u001b[0m \u001b[0mold_value\u001b[0m\u001b[1;33m,\u001b[0m \u001b[0mnew_value\u001b[0m\u001b[1;33m)\u001b[0m\u001b[1;33m:\u001b[0m\u001b[1;33m\u001b[0m\u001b[0m\n",
      "\u001b[1;32mc:\\users\\benjamin.portner\\appdata\\local\\programs\\python\\python36\\lib\\site-packages\\ipywidgets\\widgets\\widget.py\u001b[0m in \u001b[0;36mnotify_change\u001b[1;34m(self, change)\u001b[0m\n\u001b[0;32m    598\u001b[0m                 \u001b[1;31m# Send new state to front-end\u001b[0m\u001b[1;33m\u001b[0m\u001b[1;33m\u001b[0m\u001b[0m\n\u001b[0;32m    599\u001b[0m                 \u001b[0mself\u001b[0m\u001b[1;33m.\u001b[0m\u001b[0msend_state\u001b[0m\u001b[1;33m(\u001b[0m\u001b[0mkey\u001b[0m\u001b[1;33m=\u001b[0m\u001b[0mname\u001b[0m\u001b[1;33m)\u001b[0m\u001b[1;33m\u001b[0m\u001b[0m\n\u001b[1;32m--> 600\u001b[1;33m         \u001b[0msuper\u001b[0m\u001b[1;33m(\u001b[0m\u001b[0mWidget\u001b[0m\u001b[1;33m,\u001b[0m \u001b[0mself\u001b[0m\u001b[1;33m)\u001b[0m\u001b[1;33m.\u001b[0m\u001b[0mnotify_change\u001b[0m\u001b[1;33m(\u001b[0m\u001b[0mchange\u001b[0m\u001b[1;33m)\u001b[0m\u001b[1;33m\u001b[0m\u001b[0m\n\u001b[0m\u001b[0;32m    601\u001b[0m \u001b[1;33m\u001b[0m\u001b[0m\n\u001b[0;32m    602\u001b[0m     \u001b[1;32mdef\u001b[0m \u001b[0m__repr__\u001b[0m\u001b[1;33m(\u001b[0m\u001b[0mself\u001b[0m\u001b[1;33m)\u001b[0m\u001b[1;33m:\u001b[0m\u001b[1;33m\u001b[0m\u001b[0m\n",
      "\u001b[1;32mc:\\users\\benjamin.portner\\appdata\\local\\programs\\python\\python36\\lib\\site-packages\\traitlets\\traitlets.py\u001b[0m in \u001b[0;36mnotify_change\u001b[1;34m(self, change)\u001b[0m\n\u001b[0;32m   1174\u001b[0m                 \u001b[0mc\u001b[0m \u001b[1;33m=\u001b[0m \u001b[0mgetattr\u001b[0m\u001b[1;33m(\u001b[0m\u001b[0mself\u001b[0m\u001b[1;33m,\u001b[0m \u001b[0mc\u001b[0m\u001b[1;33m.\u001b[0m\u001b[0mname\u001b[0m\u001b[1;33m)\u001b[0m\u001b[1;33m\u001b[0m\u001b[0m\n\u001b[0;32m   1175\u001b[0m \u001b[1;33m\u001b[0m\u001b[0m\n\u001b[1;32m-> 1176\u001b[1;33m             \u001b[0mc\u001b[0m\u001b[1;33m(\u001b[0m\u001b[0mchange\u001b[0m\u001b[1;33m)\u001b[0m\u001b[1;33m\u001b[0m\u001b[0m\n\u001b[0m\u001b[0;32m   1177\u001b[0m \u001b[1;33m\u001b[0m\u001b[0m\n\u001b[0;32m   1178\u001b[0m     \u001b[1;32mdef\u001b[0m \u001b[0m_add_notifiers\u001b[0m\u001b[1;33m(\u001b[0m\u001b[0mself\u001b[0m\u001b[1;33m,\u001b[0m \u001b[0mhandler\u001b[0m\u001b[1;33m,\u001b[0m \u001b[0mname\u001b[0m\u001b[1;33m,\u001b[0m \u001b[0mtype\u001b[0m\u001b[1;33m)\u001b[0m\u001b[1;33m:\u001b[0m\u001b[1;33m\u001b[0m\u001b[0m\n",
      "\u001b[1;32mc:\\users\\benjamin.portner\\appdata\\local\\programs\\python\\python36\\lib\\site-packages\\plotly\\basewidget.py\u001b[0m in \u001b[0;36m_handler_js2py_pointsCallback\u001b[1;34m(self, change)\u001b[0m\n\u001b[0;32m    726\u001b[0m         \u001b[1;32mfor\u001b[0m \u001b[0mtrace_ind\u001b[0m\u001b[1;33m,\u001b[0m \u001b[0mtrace_points_data\u001b[0m \u001b[1;32min\u001b[0m \u001b[0mtrace_points\u001b[0m\u001b[1;33m.\u001b[0m\u001b[0mitems\u001b[0m\u001b[1;33m(\u001b[0m\u001b[1;33m)\u001b[0m\u001b[1;33m:\u001b[0m\u001b[1;33m\u001b[0m\u001b[0m\n\u001b[0;32m    727\u001b[0m             \u001b[0mpoints\u001b[0m \u001b[1;33m=\u001b[0m \u001b[0mPoints\u001b[0m\u001b[1;33m(\u001b[0m\u001b[1;33m**\u001b[0m\u001b[0mtrace_points_data\u001b[0m\u001b[1;33m)\u001b[0m\u001b[1;33m\u001b[0m\u001b[0m\n\u001b[1;32m--> 728\u001b[1;33m             \u001b[0mtrace\u001b[0m \u001b[1;33m=\u001b[0m \u001b[0mself\u001b[0m\u001b[1;33m.\u001b[0m\u001b[0mdata\u001b[0m\u001b[1;33m[\u001b[0m\u001b[0mtrace_ind\u001b[0m\u001b[1;33m]\u001b[0m\u001b[1;33m\u001b[0m\u001b[0m\n\u001b[0m\u001b[0;32m    729\u001b[0m \u001b[1;33m\u001b[0m\u001b[0m\n\u001b[0;32m    730\u001b[0m             \u001b[1;32mif\u001b[0m \u001b[0mevent_type\u001b[0m \u001b[1;33m==\u001b[0m \u001b[1;34m'plotly_click'\u001b[0m\u001b[1;33m:\u001b[0m\u001b[1;33m\u001b[0m\u001b[0m\n",
      "\u001b[1;31mIndexError\u001b[0m: tuple index out of range"
     ]
    }
   ],
   "source": [
    "import pandas as pd\n",
    "import plotly\n",
    "import tqdm\n",
    "\n",
    "dfAirports = pd.read_csv(\"airports.csv\")\n",
    "dfOD = pd.read_csv(\"connections.csv\")\n",
    "\n",
    "\n",
    "# airport scatter\n",
    "airport_data = plotly.graph_objs.Scattergeo(\n",
    "    lat=dfAirports[\"lat\"].values,\n",
    "    lon=dfAirports[\"long\"].values,\n",
    "    mode=\"markers\",\n",
    "    hovertext=dfAirports[\"airport\"].values,\n",
    "    marker=dict(color='rgba(155, 0, 0, .6)')\n",
    ")\n",
    "\n",
    "\n",
    "# layout = spherical earth\n",
    "layout = dict(\n",
    "    geo=dict(\n",
    "        projection=dict(type='orthographic'),\n",
    "        showocean=True,\n",
    "        showland=True,\n",
    "        showcountries=True,\n",
    "        uirevision = True,\n",
    "    ),\n",
    "    hovermode=\"closest\",\n",
    "    width=1000,\n",
    "    height=1000,\n",
    "    margin=plotly.graph_objs.layout.Margin(\n",
    "        l=0,\n",
    "        r=10,\n",
    "        b=0,\n",
    "        t=0,\n",
    "        pad=4\n",
    "    )\n",
    ")\n",
    "\n",
    "# create figure\n",
    "figure = plotly.graph_objs.FigureWidget(data=[airport_data], layout=layout)\n",
    "\n",
    "# define click event\n",
    "def clickEvent(self, points, state):\n",
    "    try:    \n",
    "        # remove all lines\n",
    "        figure.data = [figure.data[0]]\n",
    "\n",
    "        # make new line for every connection starting at clicked airport\n",
    "        iPoint = points.point_inds[0]\n",
    "        sAirport = dfAirports.iloc[iPoint][\"airport\"]\n",
    "        df = dfOD_joined[dfOD_joined[\"Origin Airport\"]==sAirport]\n",
    "        flights = []\n",
    "        for i, orig_name, dest_name, lat_origin, long_origin, lat_destin, long_destin in df.itertuples():\n",
    "            flights.append(\n",
    "                plotly.graph_objs.Scattergeo(\n",
    "                    lon=[long_origin, long_destin],\n",
    "                    lat=[lat_origin, lat_destin],\n",
    "                    mode='lines',\n",
    "                    line=dict(width=1, color='red'),\n",
    "                    opacity = 0.6,\n",
    "                    showlegend=False,\n",
    "                    hoverinfo=\"skip\",\n",
    "                    uid = i\n",
    "                )\n",
    "            )\n",
    "        figure.add_traces(flights)\n",
    "    except:\n",
    "        pass\n",
    "\n",
    "figure.data[0].on_click(clickEvent)\n",
    "\n",
    "figure\n"
   ]
  },
  {
   "cell_type": "code",
   "execution_count": null,
   "metadata": {
    "hide_input": true
   },
   "outputs": [],
   "source": []
  }
 ],
 "metadata": {
  "kernelspec": {
   "display_name": "Python 3",
   "language": "python",
   "name": "python3"
  },
  "language_info": {
   "codemirror_mode": {
    "name": "ipython",
    "version": 3
   },
   "file_extension": ".py",
   "mimetype": "text/x-python",
   "name": "python",
   "nbconvert_exporter": "python",
   "pygments_lexer": "ipython3",
   "version": "3.6.5"
  },
  "widgets": {
   "application/vnd.jupyter.widget-state+json": {
    "state": {
     "257a9f3e0524445ca0a9bdff7f57a7d5": {
      "buffers": [
       {
        "data": "a5p3nKIjOsB37/+ffvtAwCroKTtMnT3Aklz+Q/qtNUD9//8/JfU4QLwHAIC3QDlAj8Ng/gp9REAB+n3/5kU5QOz7/19tJUNAAAAAwBn5QMBrKovCLtZCwP///99aYjvAqun//7QWM0AAAABgdGQ3QAEAAMBACkRAGy/dJAaRPEABAADgtSQ/QK7//5/y9gVAAAAAILlcK0Cjs8wiFE82QL7BFyZTZSpAfdCzWfU5IEAt7v9flYAYwAouVtRgmvU/v30dOGcELUAy5q4l5BM5QAAAAIALvEJA9///HxB/IcAAAACgGJQ+QIdOz7uxxkFAAAAAoKA4NUABAACgqTI/QAAAAEBywUBArK3YX3bHQkAAAADAOWNFQAAAAMD+ykBA17T/vzmjJUAAAABAi2RBQAbJ//8fMjpAAQMAQEDTK0DS//+fcJ0kQAAAAAA9CzBAeCy2SUUjDUAAAAAgqaM2QGMuAABNxDJA////H/KEHcD////fGz8UwFHt/9/5lkFAsb/snjy8SUDpEDgSaDxEQCDSb18HpkRAl5APejYLKMB1zeSbbc4SQCkMBOCj+EBAqz5XW7FvM0AI5gkA5VFEQAAAAGA7z0JAQA8AIFgJNUBaHwDAS8c5QA+Jeyx9qBhArzIAgBbpNsAzVwBARxIrwAAAAMBIoDfA",
        "encoding": "base64",
        "path": [
         "_data",
         0,
         "lat",
         "value"
        ]
       },
       {
        "data": "5dAi2/k+PEBI/v//CJoyQBT0lB2mHj9AGuHtQQiUQ0AAAABAcllHQKUAAKCkrktAVFInoInQPEB7EW3H1M1JQAvy/x8xKDtAAAAAAKrlYkDOjlTf+RpiQAAAAIC+I2NAXQIAoIs3UkAAAADgIlNcQAAAAKBwJV1AjgWFQZlGU0AAAAAghXNeQET//59wbVlAAAAA4M4vWUCrs1pgj3pcQKSMuAA0bVNAXoJTH0iUWEBeBQDg+6laQA9Iwr6d/1lAKUF/oUdBXkDEeTiB6U5eQAAAACDdnF9Awf7/H7DKXEAAAACgm/xZQDV9dsD1eGFA////36VzWkD/////gFVeQAAAAECNn19AtMh2vp+yX0AAAADgJLZhQP///59uTmBAW7z/X7qpWkAAAAAgBO5gQEXY/x9Y6V9AUq3/H9kmWUA/AQDgp/5eQAAAAGC8DFtAkncOZai4WEAAAABg53NcQNr9/z+bvVhAAAAAQF4yXEABAADAdONdQKL6/x8EHmBASZ7r+3CQ3b8cX3tmSYAMwHBa8KKvoABAPDHrxVBHU8AT8kHPZolSwDhX3p8cml3A2QbuQJ3EWMBexgOA2XFSwAAAAAAAmF7AEwEAYCK4VcBSrf8f2QZZwAK8BRIU21LAAwYAgOCURcApCABAFfxRwAAAAIAEVEfA",
        "encoding": "base64",
        "path": [
         "_data",
         0,
         "lon",
         "value"
        ]
       }
      ],
      "model_module": "plotlywidget",
      "model_module_version": "0.8.0",
      "model_name": "FigureModel",
      "state": {
       "_data": [
        {
         "hovertext": [
          "JNB",
          "CPT",
          "DUR",
          "JED",
          "RUH",
          "DXB",
          "IST",
          "DOH",
          "ADB",
          "SYD",
          "MEL",
          "BNE",
          "BOM",
          "CAN",
          "PEK",
          "DEL",
          "PVG",
          "KUL",
          "BKK",
          "HKG",
          "BLR",
          "HKT",
          "CGK",
          "SIN",
          "MNL",
          "TPE",
          "ICN",
          "DPS",
          "CTU",
          "HND",
          "HAN",
          "SHA",
          "CJU",
          "GMP",
          "CTS",
          "FUK",
          "SGN",
          "ITM",
          "OKA",
          "DMK",
          "CEB",
          "DAD",
          "KNO",
          "SZX",
          "CNX",
          "SUB",
          "UPG",
          "PUS",
          "LHR",
          "MAD",
          "BCN",
          "LIM",
          "BOG",
          "LAX",
          "MEX",
          "JFK",
          "SFO",
          "CUN",
          "MTY",
          "MDE",
          "SDU",
          "CUZ",
          "CGH"
         ],
         "lat": {
          "dtype": "float64",
          "shape": [
           63
          ],
          "value": {}
         },
         "lon": {
          "dtype": "float64",
          "shape": [
           63
          ],
          "value": {}
         },
         "marker": {
          "color": "rgba(155, 0, 0, .6)"
         },
         "mode": "markers",
         "type": "scattergeo",
         "uid": "ef4a63fa-3b9f-46f6-9edb-d64648805bd4"
        },
        {
         "hoverinfo": "skip",
         "lat": [
          33.51129913330078,
          37.5583
         ],
         "line": {
          "color": "red",
          "width": 1
         },
         "lon": [
          126.49299621582031,
          126.791
         ],
         "mode": "lines",
         "opacity": 0.6,
         "showlegend": false,
         "type": "scattergeo",
         "uid": "0c88fdc4-ebd1-4aed-b313-ebff8f5c2e2b",
         "visible": false
        },
        {
         "hoverinfo": "skip",
         "lat": [
          37.5583,
          33.51129913330078
         ],
         "line": {
          "color": "red",
          "width": 1
         },
         "lon": [
          126.791,
          126.49299621582031
         ],
         "mode": "lines",
         "opacity": 0.6,
         "showlegend": false,
         "type": "scattergeo",
         "uid": "ae866260-b271-48e7-8395-3e083942802c",
         "visible": false
        },
        {
         "hoverinfo": "skip",
         "lat": [
          42.77519989013672,
          35.552299
         ],
         "line": {
          "color": "red",
          "width": 1
         },
         "lon": [
          141.69200134277344,
          139.779999
         ],
         "mode": "lines",
         "opacity": 0.6,
         "showlegend": false,
         "type": "scattergeo",
         "uid": "e83847c4-73aa-4229-88d9-ba0b1e6b069b",
         "visible": false
        },
        {
         "hoverinfo": "skip",
         "lat": [
          35.552299,
          42.77519989013672
         ],
         "line": {
          "color": "red",
          "width": 1
         },
         "lon": [
          139.779999,
          141.69200134277344
         ],
         "mode": "lines",
         "opacity": 0.6,
         "showlegend": false,
         "type": "scattergeo",
         "uid": "f1306e0f-710f-4583-8074-78ce4893fc2c",
         "visible": false
        },
        {
         "hoverinfo": "skip",
         "lat": [
          35.552299,
          33.585899353027344
         ],
         "line": {
          "color": "red",
          "width": 1
         },
         "lon": [
          139.779999,
          130.45100402832028
         ],
         "mode": "lines",
         "opacity": 0.6,
         "showlegend": false,
         "type": "scattergeo",
         "uid": "5d4257d5-b857-45a5-8b1f-7d06e8ca98a3",
         "visible": false
        },
        {
         "hoverinfo": "skip",
         "lat": [
          33.585899353027344,
          35.552299
         ],
         "line": {
          "color": "red",
          "width": 1
         },
         "lon": [
          130.45100402832028,
          139.779999
         ],
         "mode": "lines",
         "opacity": 0.6,
         "showlegend": false,
         "type": "scattergeo",
         "uid": "098c577c-3098-420a-83d4-ec0e27f8368d",
         "visible": false
        },
        {
         "hoverinfo": "skip",
         "lat": [
          -37.673302,
          -33.94609832763672
         ],
         "line": {
          "color": "red",
          "width": 1
         },
         "lon": [
          144.843002,
          151.177001953125
         ],
         "mode": "lines",
         "opacity": 0.6,
         "showlegend": false,
         "type": "scattergeo",
         "uid": "e474d433-9161-4c70-8208-4a08a062f950",
         "visible": false
        },
        {
         "hoverinfo": "skip",
         "lat": [
          -33.94609832763672,
          -37.673302
         ],
         "line": {
          "color": "red",
          "width": 1
         },
         "lon": [
          151.177001953125,
          144.843002
         ],
         "mode": "lines",
         "opacity": 0.6,
         "showlegend": false,
         "type": "scattergeo",
         "uid": "e8963fd3-e544-40d2-8303-e3fb0c2d868d",
         "visible": false
        },
        {
         "hoverinfo": "skip",
         "lat": [
          21.221200942993164,
          10.8187999725
         ],
         "line": {
          "color": "red",
          "width": 1
         },
         "lon": [
          105.80699920654295,
          106.652000427
         ],
         "mode": "lines",
         "opacity": 0.6,
         "showlegend": false,
         "type": "scattergeo",
         "uid": "8b8be375-ffda-45ed-bc49-e35d5f164f4f",
         "visible": false
        },
        {
         "hoverinfo": "skip",
         "lat": [
          10.8187999725,
          21.221200942993164
         ],
         "line": {
          "color": "red",
          "width": 1
         },
         "lon": [
          106.652000427,
          105.80699920654295
         ],
         "mode": "lines",
         "opacity": 0.6,
         "showlegend": false,
         "type": "scattergeo",
         "uid": "891301b1-7105-47dc-8957-0fb58cc343ea",
         "visible": false
        },
        {
         "hoverinfo": "skip",
         "lat": [
          28.5665,
          19.088699340799998
         ],
         "line": {
          "color": "red",
          "width": 1
         },
         "lon": [
          77.103104,
          72.8678970337
         ],
         "mode": "lines",
         "opacity": 0.6,
         "showlegend": false,
         "type": "scattergeo",
         "uid": "c7b9b0f7-02b7-491b-939f-b514d74cfb26",
         "visible": false
        },
        {
         "hoverinfo": "skip",
         "lat": [
          19.088699340799998,
          28.5665
         ],
         "line": {
          "color": "red",
          "width": 1
         },
         "lon": [
          72.8678970337,
          77.103104
         ],
         "mode": "lines",
         "opacity": 0.6,
         "showlegend": false,
         "type": "scattergeo",
         "uid": "a7f6bbe7-10eb-4fbe-93ef-e138b3a7e6f5",
         "visible": false
        },
        {
         "hoverinfo": "skip",
         "lat": [
          25.0777,
          22.308901000000002
         ],
         "line": {
          "color": "red",
          "width": 1
         },
         "lon": [
          121.233002,
          113.915001
         ],
         "mode": "lines",
         "opacity": 0.6,
         "showlegend": false,
         "type": "scattergeo",
         "uid": "7f034890-cc9d-421c-9338-3a241cacb2f3",
         "visible": false
        },
        {
         "hoverinfo": "skip",
         "lat": [
          22.308901000000002,
          25.0777
         ],
         "line": {
          "color": "red",
          "width": 1
         },
         "lon": [
          113.915001,
          121.233002
         ],
         "mode": "lines",
         "opacity": 0.6,
         "showlegend": false,
         "type": "scattergeo",
         "uid": "5b9634be-fb14-4af2-84e0-461d634ffebf",
         "visible": false
        },
        {
         "hoverinfo": "skip",
         "lat": [
          40.0801010131836,
          31.19790077209473
         ],
         "line": {
          "color": "red",
          "width": 1
         },
         "lon": [
          116.58499908447266,
          121.33599853515624
         ],
         "mode": "lines",
         "opacity": 0.6,
         "showlegend": false,
         "type": "scattergeo",
         "uid": "17cf8e6f-6aca-45ab-9ac8-a7c6d2257f44",
         "visible": false
        },
        {
         "hoverinfo": "skip",
         "lat": [
          31.19790077209473,
          40.0801010131836
         ],
         "line": {
          "color": "red",
          "width": 1
         },
         "lon": [
          121.33599853515624,
          116.58499908447266
         ],
         "mode": "lines",
         "opacity": 0.6,
         "showlegend": false,
         "type": "scattergeo",
         "uid": "af97635b-0dd3-4da9-92c2-f05aaadee5c9",
         "visible": false
        },
        {
         "hoverinfo": "skip",
         "lat": [
          26.1958007812,
          35.552299
         ],
         "line": {
          "color": "red",
          "width": 1
         },
         "lon": [
          127.64600372299999,
          139.779999
         ],
         "mode": "lines",
         "opacity": 0.6,
         "showlegend": false,
         "type": "scattergeo",
         "uid": "1d060394-42c8-422e-9533-76391c143311",
         "visible": false
        },
        {
         "hoverinfo": "skip",
         "lat": [
          35.552299,
          26.1958007812
         ],
         "line": {
          "color": "red",
          "width": 1
         },
         "lon": [
          139.779999,
          127.64600372299999
         ],
         "mode": "lines",
         "opacity": 0.6,
         "showlegend": false,
         "type": "scattergeo",
         "uid": "96f28582-bd50-42c1-9c2e-5663f69e1309",
         "visible": false
        },
        {
         "hoverinfo": "skip",
         "lat": [
          35.552299,
          34.785499572753906
         ],
         "line": {
          "color": "red",
          "width": 1
         },
         "lon": [
          139.779999,
          135.43800354003906
         ],
         "mode": "lines",
         "opacity": 0.6,
         "showlegend": false,
         "type": "scattergeo",
         "uid": "7f1bf1fc-c70a-4329-a9d0-7832831a8255",
         "visible": false
        },
        {
         "hoverinfo": "skip",
         "lat": [
          34.785499572753906,
          35.552299
         ],
         "line": {
          "color": "red",
          "width": 1
         },
         "lon": [
          135.43800354003906,
          139.779999
         ],
         "mode": "lines",
         "opacity": 0.6,
         "showlegend": false,
         "type": "scattergeo",
         "uid": "5084cfc8-ae2b-49ad-86c7-02264c53e7fd",
         "visible": false
        },
        {
         "hoverinfo": "skip",
         "lat": [
          -7.379829883575439,
          -6.1255698204
         ],
         "line": {
          "color": "red",
          "width": 1
         },
         "lon": [
          112.78700256347656,
          106.65599823
         ],
         "mode": "lines",
         "opacity": 0.6,
         "showlegend": false,
         "type": "scattergeo",
         "uid": "b4e8a8c7-b18b-4d4c-9ebf-2f791a0c62a4",
         "visible": false
        },
        {
         "hoverinfo": "skip",
         "lat": [
          -6.1255698204,
          -7.379829883575439
         ],
         "line": {
          "color": "red",
          "width": 1
         },
         "lon": [
          106.65599823,
          112.78700256347656
         ],
         "mode": "lines",
         "opacity": 0.6,
         "showlegend": false,
         "type": "scattergeo",
         "uid": "fafa8ce8-68c1-4ad3-9ab6-ae8a18d5c0a9",
         "visible": false
        },
        {
         "hoverinfo": "skip",
         "lat": [
          24.957599639892567,
          21.6796
         ],
         "line": {
          "color": "red",
          "width": 1
         },
         "lon": [
          46.69879913330078,
          39.156502
         ],
         "mode": "lines",
         "opacity": 0.6,
         "showlegend": false,
         "type": "scattergeo",
         "uid": "19e9a132-b1cc-4f1a-86ed-6026c7c389b2",
         "visible": false
        },
        {
         "hoverinfo": "skip",
         "lat": [
          21.6796,
          24.957599639892567
         ],
         "line": {
          "color": "red",
          "width": 1
         },
         "lon": [
          39.156502,
          46.69879913330078
         ],
         "mode": "lines",
         "opacity": 0.6,
         "showlegend": false,
         "type": "scattergeo",
         "uid": "4efef468-f0d5-4bf5-a0b2-9d2ad08b6c52",
         "visible": false
        },
        {
         "hoverinfo": "skip",
         "lat": [
          -23.626110076904297,
          -22.910499572800003
         ],
         "line": {
          "color": "red",
          "width": 1
         },
         "lon": [
          -46.65638732910156,
          -43.1631011963
         ],
         "mode": "lines",
         "opacity": 0.6,
         "showlegend": false,
         "type": "scattergeo",
         "uid": "1dc6bfe3-369b-4ac3-a8c2-1c89521a621c",
         "visible": false
        },
        {
         "hoverinfo": "skip",
         "lat": [
          -22.910499572800003,
          -23.626110076904297
         ],
         "line": {
          "color": "red",
          "width": 1
         },
         "lon": [
          -43.1631011963,
          -46.65638732910156
         ],
         "mode": "lines",
         "opacity": 0.6,
         "showlegend": false,
         "type": "scattergeo",
         "uid": "ba207aa3-da57-474e-a916-f392a3e7ada1",
         "visible": false
        },
        {
         "hoverinfo": "skip",
         "lat": [
          -26.1392,
          -33.9648017883
         ],
         "line": {
          "color": "red",
          "width": 1
         },
         "lon": [
          28.246,
          18.6016998291
         ],
         "mode": "lines",
         "opacity": 0.6,
         "showlegend": false,
         "type": "scattergeo",
         "uid": "c7507c99-48c9-4d90-ab6d-8a12747f32a6",
         "visible": false
        },
        {
         "hoverinfo": "skip",
         "lat": [
          -33.9648017883,
          -26.1392
         ],
         "line": {
          "color": "red",
          "width": 1
         },
         "lon": [
          18.6016998291,
          28.246
         ],
         "mode": "lines",
         "opacity": 0.6,
         "showlegend": false,
         "type": "scattergeo",
         "uid": "1b404d19-f5b5-4497-ab9f-2763ce3a2718",
         "visible": false
        },
        {
         "hoverinfo": "skip",
         "lat": [
          -5.061629772186278,
          -6.1255698204
         ],
         "line": {
          "color": "red",
          "width": 1
         },
         "lon": [
          119.5540008544922,
          106.65599823
         ],
         "mode": "lines",
         "opacity": 0.6,
         "showlegend": false,
         "type": "scattergeo",
         "uid": "0c8a22ea-af25-4770-8f24-48610b476ced",
         "visible": false
        },
        {
         "hoverinfo": "skip",
         "lat": [
          -6.1255698204,
          1.35019
         ],
         "line": {
          "color": "red",
          "width": 1
         },
         "lon": [
          106.65599823,
          103.994003
         ],
         "mode": "lines",
         "opacity": 0.6,
         "showlegend": false,
         "type": "scattergeo",
         "uid": "e9045cb0-9008-4aff-8863-09aba9b60542",
         "visible": false
        },
        {
         "hoverinfo": "skip",
         "lat": [
          30.578500747680664,
          40.0801010131836
         ],
         "line": {
          "color": "red",
          "width": 1
         },
         "lon": [
          103.9469985961914,
          116.58499908447266
         ],
         "mode": "lines",
         "opacity": 0.6,
         "showlegend": false,
         "type": "scattergeo",
         "uid": "f3248bdc-dd7e-4106-8a54-20b5c1f5d35e",
         "visible": false
        },
        {
         "hoverinfo": "skip",
         "lat": [
          40.0801010131836,
          30.578500747680664
         ],
         "line": {
          "color": "red",
          "width": 1
         },
         "lon": [
          116.58499908447266,
          103.9469985961914
         ],
         "mode": "lines",
         "opacity": 0.6,
         "showlegend": false,
         "type": "scattergeo",
         "uid": "1d4181c7-d511-478c-b386-19b6b10cbb05",
         "visible": false
        },
        {
         "hoverinfo": "skip",
         "lat": [
          -33.94609832763672,
          -27.38419914245605
         ],
         "line": {
          "color": "red",
          "width": 1
         },
         "lon": [
          151.177001953125,
          153.11700439453125
         ],
         "mode": "lines",
         "opacity": 0.6,
         "showlegend": false,
         "type": "scattergeo",
         "uid": "8d508be9-8c13-4127-bdd9-87bf4018af82",
         "visible": false
        },
        {
         "hoverinfo": "skip",
         "lat": [
          1.35019,
          -6.1255698204
         ],
         "line": {
          "color": "red",
          "width": 1
         },
         "lon": [
          103.994003,
          106.65599823
         ],
         "mode": "lines",
         "opacity": 0.6,
         "showlegend": false,
         "type": "scattergeo",
         "uid": "82d6aef5-640e-4388-866a-c285a3959a4b",
         "visible": false
        },
        {
         "hoverinfo": "skip",
         "lat": [
          -27.38419914245605,
          -33.94609832763672
         ],
         "line": {
          "color": "red",
          "width": 1
         },
         "lon": [
          153.11700439453125,
          151.177001953125
         ],
         "mode": "lines",
         "opacity": 0.6,
         "showlegend": false,
         "type": "scattergeo",
         "uid": "ff648fbb-d56f-4e8d-b65d-053ef77174a7",
         "visible": false
        },
        {
         "hoverinfo": "skip",
         "lat": [
          23.39240074157715,
          40.0801010131836
         ],
         "line": {
          "color": "red",
          "width": 1
         },
         "lon": [
          113.29900360107422,
          116.58499908447266
         ],
         "mode": "lines",
         "opacity": 0.6,
         "showlegend": false,
         "type": "scattergeo",
         "uid": "08b0472e-1e86-4a2c-988a-4f1c8a56fff7",
         "visible": false
        },
        {
         "hoverinfo": "skip",
         "lat": [
          40.0801010131836,
          23.39240074157715
         ],
         "line": {
          "color": "red",
          "width": 1
         },
         "lon": [
          116.58499908447266,
          113.29900360107422
         ],
         "mode": "lines",
         "opacity": 0.6,
         "showlegend": false,
         "type": "scattergeo",
         "uid": "3ca2aff6-fcc6-40d2-9379-00f6a4468386",
         "visible": false
        },
        {
         "hoverinfo": "skip",
         "lat": [
          1.35019,
          2.7455799579619997
         ],
         "line": {
          "color": "red",
          "width": 1
         },
         "lon": [
          103.994003,
          101.70999908446998
         ],
         "mode": "lines",
         "opacity": 0.6,
         "showlegend": false,
         "type": "scattergeo",
         "uid": "76e3463a-db09-4b3b-b442-c049f860871f",
         "visible": false
        },
        {
         "hoverinfo": "skip",
         "lat": [
          2.7455799579619997,
          1.35019
         ],
         "line": {
          "color": "red",
          "width": 1
         },
         "lon": [
          101.70999908446998,
          103.994003
         ],
         "mode": "lines",
         "opacity": 0.6,
         "showlegend": false,
         "type": "scattergeo",
         "uid": "31f6da95-ebea-483a-b238-db0b97a2a00e",
         "visible": false
        },
        {
         "hoverinfo": "skip",
         "lat": [
          -6.1255698204,
          -8.7481698989868
         ],
         "line": {
          "color": "red",
          "width": 1
         },
         "lon": [
          106.65599823,
          115.16699981689
         ],
         "mode": "lines",
         "opacity": 0.6,
         "showlegend": false,
         "type": "scattergeo",
         "uid": "e09c9b5c-24b9-4787-b24a-1fc59b3b67a0",
         "visible": false
        },
        {
         "hoverinfo": "skip",
         "lat": [
          37.61899948120117,
          33.94250107
         ],
         "line": {
          "color": "red",
          "width": 1
         },
         "lon": [
          -122.375,
          -118.40799709999999
         ],
         "mode": "lines",
         "opacity": 0.6,
         "showlegend": false,
         "type": "scattergeo",
         "uid": "2c3c3258-f216-46c3-8594-447f1a41f316",
         "visible": false
        },
        {
         "hoverinfo": "skip",
         "lat": [
          33.94250107,
          37.61899948120117
         ],
         "line": {
          "color": "red",
          "width": 1
         },
         "lon": [
          -118.40799709999999,
          -122.375
         ],
         "mode": "lines",
         "opacity": 0.6,
         "showlegend": false,
         "type": "scattergeo",
         "uid": "473f2637-59ba-4a34-a22f-fbfcab5af94d",
         "visible": false
        },
        {
         "hoverinfo": "skip",
         "lat": [
          -8.7481698989868,
          -6.1255698204
         ],
         "line": {
          "color": "red",
          "width": 1
         },
         "lon": [
          115.16699981689,
          106.65599823
         ],
         "mode": "lines",
         "opacity": 0.6,
         "showlegend": false,
         "type": "scattergeo",
         "uid": "e088a834-1f28-49e0-94dc-26230dc54855",
         "visible": false
        },
        {
         "hoverinfo": "skip",
         "lat": [
          22.308901000000002,
          13.681099891662598
         ],
         "line": {
          "color": "red",
          "width": 1
         },
         "lon": [
          113.915001,
          100.74700164794922
         ],
         "mode": "lines",
         "opacity": 0.6,
         "showlegend": false,
         "type": "scattergeo",
         "uid": "f3148283-6804-46a1-bd89-8e0618055458",
         "visible": false
        },
        {
         "hoverinfo": "skip",
         "lat": [
          13.681099891662598,
          22.308901000000002
         ],
         "line": {
          "color": "red",
          "width": 1
         },
         "lon": [
          100.74700164794922,
          113.915001
         ],
         "mode": "lines",
         "opacity": 0.6,
         "showlegend": false,
         "type": "scattergeo",
         "uid": "c74dd0d4-e29f-493f-87a5-28b5b54a5971",
         "visible": false
        },
        {
         "hoverinfo": "skip",
         "lat": [
          23.39240074157715,
          31.19790077209473
         ],
         "line": {
          "color": "red",
          "width": 1
         },
         "lon": [
          113.29900360107422,
          121.33599853515624
         ],
         "mode": "lines",
         "opacity": 0.6,
         "showlegend": false,
         "type": "scattergeo",
         "uid": "76f26e38-4e40-4216-9f69-c0e47199276e",
         "visible": false
        },
        {
         "hoverinfo": "skip",
         "lat": [
          31.19790077209473,
          23.39240074157715
         ],
         "line": {
          "color": "red",
          "width": 1
         },
         "lon": [
          121.33599853515624,
          113.29900360107422
         ],
         "mode": "lines",
         "opacity": 0.6,
         "showlegend": false,
         "type": "scattergeo",
         "uid": "9c0a074e-f57d-41e0-8bb3-a7feaa854b6d",
         "visible": false
        },
        {
         "hoverinfo": "skip",
         "lat": [
          13.1979,
          28.5665
         ],
         "line": {
          "color": "red",
          "width": 1
         },
         "lon": [
          77.706299,
          77.103104
         ],
         "mode": "lines",
         "opacity": 0.6,
         "showlegend": false,
         "type": "scattergeo",
         "uid": "55071cba-2c69-4b62-9808-4385e5b51f57",
         "visible": false
        },
        {
         "hoverinfo": "skip",
         "lat": [
          -6.1255698204,
          -5.061629772186278
         ],
         "line": {
          "color": "red",
          "width": 1
         },
         "lon": [
          106.65599823,
          119.5540008544922
         ],
         "mode": "lines",
         "opacity": 0.6,
         "showlegend": false,
         "type": "scattergeo",
         "uid": "ed1cd78d-7eca-4e7e-acab-55c1eac3fb8e",
         "visible": false
        },
        {
         "hoverinfo": "skip",
         "lat": [
          28.5665,
          13.1979
         ],
         "line": {
          "color": "red",
          "width": 1
         },
         "lon": [
          77.103104,
          77.706299
         ],
         "mode": "lines",
         "opacity": 0.6,
         "showlegend": false,
         "type": "scattergeo",
         "uid": "08445922-1f10-4861-8325-ad5a416bf7c4",
         "visible": false
        },
        {
         "hoverinfo": "skip",
         "lat": [
          25.252799987800003,
          25.273056
         ],
         "line": {
          "color": "red",
          "width": 1
         },
         "lon": [
          55.3643989563,
          51.608056
         ],
         "mode": "lines",
         "opacity": 0.6,
         "showlegend": false,
         "type": "scattergeo",
         "uid": "3a4a64a4-46b6-4eb3-a519-dc56544c53dd",
         "visible": false
        },
        {
         "hoverinfo": "skip",
         "lat": [
          25.273056,
          25.252799987800003
         ],
         "line": {
          "color": "red",
          "width": 1
         },
         "lon": [
          51.608056,
          55.3643989563
         ],
         "mode": "lines",
         "opacity": 0.6,
         "showlegend": false,
         "type": "scattergeo",
         "uid": "eb046ab3-517f-4d4c-8b1f-8b781dba6e03",
         "visible": false
        },
        {
         "hoverinfo": "skip",
         "lat": [
          22.308901000000002,
          31.143400192260746
         ],
         "line": {
          "color": "red",
          "width": 1
         },
         "lon": [
          113.915001,
          121.80500030517578
         ],
         "mode": "lines",
         "opacity": 0.6,
         "showlegend": false,
         "type": "scattergeo",
         "uid": "3fc438e6-726b-4754-a0e7-51c07e6089a8",
         "visible": false
        },
        {
         "hoverinfo": "skip",
         "lat": [
          31.143400192260746,
          22.308901000000002
         ],
         "line": {
          "color": "red",
          "width": 1
         },
         "lon": [
          121.80500030517578,
          113.915001
         ],
         "mode": "lines",
         "opacity": 0.6,
         "showlegend": false,
         "type": "scattergeo",
         "uid": "6cc13af5-517b-429e-8ac5-77fcf1fc52c5",
         "visible": false
        },
        {
         "hoverinfo": "skip",
         "lat": [
          19.4363,
          21.036500930800003
         ],
         "line": {
          "color": "red",
          "width": 1
         },
         "lon": [
          -99.072098,
          -86.8770980835
         ],
         "mode": "lines",
         "opacity": 0.6,
         "showlegend": false,
         "type": "scattergeo",
         "uid": "68567b69-990d-4f15-839d-ce3a2cf48f64",
         "visible": false
        },
        {
         "hoverinfo": "skip",
         "lat": [
          21.036500930800003,
          19.4363
         ],
         "line": {
          "color": "red",
          "width": 1
         },
         "lon": [
          -86.8770980835,
          -99.072098
         ],
         "mode": "lines",
         "opacity": 0.6,
         "showlegend": false,
         "type": "scattergeo",
         "uid": "f9dccc33-2ac7-4bb0-aeec-335f69d41a32",
         "visible": false
        },
        {
         "hoverinfo": "skip",
         "lat": [
          22.639299392700195,
          40.0801010131836
         ],
         "line": {
          "color": "red",
          "width": 1
         },
         "lon": [
          113.81099700927734,
          116.58499908447266
         ],
         "mode": "lines",
         "opacity": 0.6,
         "showlegend": false,
         "type": "scattergeo",
         "uid": "3c3463fd-a8b9-47f8-b22c-b03f2fa21790",
         "visible": false
        },
        {
         "hoverinfo": "skip",
         "lat": [
          40.0801010131836,
          22.639299392700195
         ],
         "line": {
          "color": "red",
          "width": 1
         },
         "lon": [
          116.58499908447266,
          113.81099700927734
         ],
         "mode": "lines",
         "opacity": 0.6,
         "showlegend": false,
         "type": "scattergeo",
         "uid": "7e03747e-384d-4382-9af5-752498fe6474",
         "visible": false
        },
        {
         "hoverinfo": "skip",
         "lat": [
          31.19790077209473,
          22.639299392700195
         ],
         "line": {
          "color": "red",
          "width": 1
         },
         "lon": [
          121.33599853515624,
          113.81099700927734
         ],
         "mode": "lines",
         "opacity": 0.6,
         "showlegend": false,
         "type": "scattergeo",
         "uid": "0a4a8fbe-4957-48e0-9ccd-85a5c2d9b2cd",
         "visible": false
        },
        {
         "hoverinfo": "skip",
         "lat": [
          22.639299392700195,
          31.19790077209473
         ],
         "line": {
          "color": "red",
          "width": 1
         },
         "lon": [
          113.81099700927734,
          121.33599853515624
         ],
         "mode": "lines",
         "opacity": 0.6,
         "showlegend": false,
         "type": "scattergeo",
         "uid": "f135186c-3676-46f7-8518-ce7323a52345",
         "visible": false
        },
        {
         "hoverinfo": "skip",
         "lat": [
          4.70159,
          6.1645400000000015
         ],
         "line": {
          "color": "red",
          "width": 1
         },
         "lon": [
          -74.1469,
          -75.4231
         ],
         "mode": "lines",
         "opacity": 0.6,
         "showlegend": false,
         "type": "scattergeo",
         "uid": "28b0c7de-1fae-4c05-a30c-96ff77d0c7ab",
         "visible": false
        },
        {
         "hoverinfo": "skip",
         "lat": [
          14.5086,
          10.307499885559
         ],
         "line": {
          "color": "red",
          "width": 1
         },
         "lon": [
          121.019997,
          123.97899627686
         ],
         "mode": "lines",
         "opacity": 0.6,
         "showlegend": false,
         "type": "scattergeo",
         "uid": "40fea983-24bb-497f-85e5-248e7b575ca5",
         "visible": false
        },
        {
         "hoverinfo": "skip",
         "lat": [
          10.307499885559,
          14.5086
         ],
         "line": {
          "color": "red",
          "width": 1
         },
         "lon": [
          123.97899627686,
          121.019997
         ],
         "mode": "lines",
         "opacity": 0.6,
         "showlegend": false,
         "type": "scattergeo",
         "uid": "e90fd821-8664-46b7-aa44-5b545df55104",
         "visible": false
        },
        {
         "hoverinfo": "skip",
         "lat": [
          -37.673302,
          -27.38419914245605
         ],
         "line": {
          "color": "red",
          "width": 1
         },
         "lon": [
          144.843002,
          153.11700439453125
         ],
         "mode": "lines",
         "opacity": 0.6,
         "showlegend": false,
         "type": "scattergeo",
         "uid": "207f6673-b558-4074-ad30-944f946e3d3e",
         "visible": false
        },
        {
         "hoverinfo": "skip",
         "lat": [
          6.1645400000000015,
          4.70159
         ],
         "line": {
          "color": "red",
          "width": 1
         },
         "lon": [
          -75.4231,
          -74.1469
         ],
         "mode": "lines",
         "opacity": 0.6,
         "showlegend": false,
         "type": "scattergeo",
         "uid": "49de4e33-0685-4856-8f82-0d997ee500ea",
         "visible": false
        },
        {
         "hoverinfo": "skip",
         "lat": [
          13.912599563599999,
          18.7667999268
         ],
         "line": {
          "color": "red",
          "width": 1
         },
         "lon": [
          100.607002258,
          98.962600708
         ],
         "mode": "lines",
         "opacity": 0.6,
         "showlegend": false,
         "type": "scattergeo",
         "uid": "509dadb1-7ac4-46fc-a782-4eda0efb0e93",
         "visible": false
        },
        {
         "hoverinfo": "skip",
         "lat": [
          18.7667999268,
          13.912599563599999
         ],
         "line": {
          "color": "red",
          "width": 1
         },
         "lon": [
          98.962600708,
          100.607002258
         ],
         "mode": "lines",
         "opacity": 0.6,
         "showlegend": false,
         "type": "scattergeo",
         "uid": "01636b04-abf5-444c-aa26-c9b73bd5f5f5",
         "visible": false
        },
        {
         "hoverinfo": "skip",
         "lat": [
          1.35019,
          22.308901000000002
         ],
         "line": {
          "color": "red",
          "width": 1
         },
         "lon": [
          103.994003,
          113.915001
         ],
         "mode": "lines",
         "opacity": 0.6,
         "showlegend": false,
         "type": "scattergeo",
         "uid": "a981e38f-ab6d-4a14-af1e-788e150fae5f",
         "visible": false
        },
        {
         "hoverinfo": "skip",
         "lat": [
          22.308901000000002,
          1.35019
         ],
         "line": {
          "color": "red",
          "width": 1
         },
         "lon": [
          113.915001,
          103.994003
         ],
         "mode": "lines",
         "opacity": 0.6,
         "showlegend": false,
         "type": "scattergeo",
         "uid": "68c83cb5-528b-4cff-9838-d8932ea7ecd2",
         "visible": false
        },
        {
         "hoverinfo": "skip",
         "lat": [
          -27.38419914245605,
          -37.673302
         ],
         "line": {
          "color": "red",
          "width": 1
         },
         "lon": [
          153.11700439453125,
          144.843002
         ],
         "mode": "lines",
         "opacity": 0.6,
         "showlegend": false,
         "type": "scattergeo",
         "uid": "61aaa671-449f-45e5-b1dc-0d81f873a987",
         "visible": false
        },
        {
         "hoverinfo": "skip",
         "lat": [
          37.46910095214844,
          22.308901000000002
         ],
         "line": {
          "color": "red",
          "width": 1
         },
         "lon": [
          126.45099639892578,
          113.915001
         ],
         "mode": "lines",
         "opacity": 0.6,
         "showlegend": false,
         "type": "scattergeo",
         "uid": "48f9b8da-5cf7-44ca-a917-e872b6bc1f84",
         "visible": false
        },
        {
         "hoverinfo": "skip",
         "lat": [
          22.308901000000002,
          37.46910095214844
         ],
         "line": {
          "color": "red",
          "width": 1
         },
         "lon": [
          113.915001,
          126.45099639892578
         ],
         "mode": "lines",
         "opacity": 0.6,
         "showlegend": false,
         "type": "scattergeo",
         "uid": "abaff97f-8b6b-45fc-a332-c63288d153bc",
         "visible": false
        },
        {
         "hoverinfo": "skip",
         "lat": [
          19.4363,
          25.7784996033
         ],
         "line": {
          "color": "red",
          "width": 1
         },
         "lon": [
          -99.072098,
          -100.107002258
         ],
         "mode": "lines",
         "opacity": 0.6,
         "showlegend": false,
         "type": "scattergeo",
         "uid": "025769b8-cd11-46d3-94b4-009fcf2efe35",
         "visible": false
        },
        {
         "hoverinfo": "skip",
         "lat": [
          25.7784996033,
          19.4363
         ],
         "line": {
          "color": "red",
          "width": 1
         },
         "lon": [
          -100.107002258,
          -99.072098
         ],
         "mode": "lines",
         "opacity": 0.6,
         "showlegend": false,
         "type": "scattergeo",
         "uid": "3a8fbf1d-748a-4ce9-8bfd-6a6968dd34fd",
         "visible": false
        },
        {
         "hoverinfo": "skip",
         "lat": [
          8.1132,
          13.912599563599999
         ],
         "line": {
          "color": "red",
          "width": 1
         },
         "lon": [
          98.316902,
          100.607002258
         ],
         "mode": "lines",
         "opacity": 0.6,
         "showlegend": false,
         "type": "scattergeo",
         "uid": "b2b1f569-ec92-41dc-8651-d7c88a791aeb",
         "visible": false
        },
        {
         "hoverinfo": "skip",
         "lat": [
          13.912599563599999,
          8.1132
         ],
         "line": {
          "color": "red",
          "width": 1
         },
         "lon": [
          100.607002258,
          98.316902
         ],
         "mode": "lines",
         "opacity": 0.6,
         "showlegend": false,
         "type": "scattergeo",
         "uid": "9308a279-3a0e-4c14-8d8d-65eaaba9584a",
         "visible": false
        },
        {
         "hoverinfo": "skip",
         "lat": [
          16.043899536132812,
          10.8187999725
         ],
         "line": {
          "color": "red",
          "width": 1
         },
         "lon": [
          108.1989974975586,
          106.652000427
         ],
         "mode": "lines",
         "opacity": 0.6,
         "showlegend": false,
         "type": "scattergeo",
         "uid": "f8fc9dd2-7029-4e38-ae17-17cd20c4d878",
         "visible": false
        },
        {
         "hoverinfo": "skip",
         "lat": [
          -12.0219,
          -13.535699844400005
         ],
         "line": {
          "color": "red",
          "width": 1
         },
         "lon": [
          -77.114305,
          -71.9387969971
         ],
         "mode": "lines",
         "opacity": 0.6,
         "showlegend": false,
         "type": "scattergeo",
         "uid": "2bbebfe7-45d1-4c4d-ad86-1a1bda8a3bfd",
         "visible": false
        },
        {
         "hoverinfo": "skip",
         "lat": [
          41.2971,
          40.471926
         ],
         "line": {
          "color": "red",
          "width": 1
         },
         "lon": [
          2.0784599999999998,
          -3.56264
         ],
         "mode": "lines",
         "opacity": 0.6,
         "showlegend": false,
         "type": "scattergeo",
         "uid": "1be460a0-8639-41ec-bf35-022713520df4",
         "visible": false
        },
        {
         "hoverinfo": "skip",
         "lat": [
          19.088699340799998,
          13.1979
         ],
         "line": {
          "color": "red",
          "width": 1
         },
         "lon": [
          72.8678970337,
          77.706299
         ],
         "mode": "lines",
         "opacity": 0.6,
         "showlegend": false,
         "type": "scattergeo",
         "uid": "ac6455fa-991c-43be-b8a4-08845927ffe8",
         "visible": false
        },
        {
         "hoverinfo": "skip",
         "lat": [
          10.8187999725,
          16.043899536132812
         ],
         "line": {
          "color": "red",
          "width": 1
         },
         "lon": [
          106.652000427,
          108.1989974975586
         ],
         "mode": "lines",
         "opacity": 0.6,
         "showlegend": false,
         "type": "scattergeo",
         "uid": "aab81457-3ef9-41ec-8c36-5eaa655f2bc9",
         "visible": false
        },
        {
         "hoverinfo": "skip",
         "lat": [
          13.1979,
          19.088699340799998
         ],
         "line": {
          "color": "red",
          "width": 1
         },
         "lon": [
          77.706299,
          72.8678970337
         ],
         "mode": "lines",
         "opacity": 0.6,
         "showlegend": false,
         "type": "scattergeo",
         "uid": "f68839ba-24ab-4c9d-a7f0-2909d9358036",
         "visible": false
        },
        {
         "hoverinfo": "skip",
         "lat": [
          -13.535699844400005,
          -12.0219
         ],
         "line": {
          "color": "red",
          "width": 1
         },
         "lon": [
          -71.9387969971,
          -77.114305
         ],
         "mode": "lines",
         "opacity": 0.6,
         "showlegend": false,
         "type": "scattergeo",
         "uid": "f86297ab-3db7-45df-890a-f5698d35513f",
         "visible": false
        },
        {
         "hoverinfo": "skip",
         "lat": [
          3.6422220000000003,
          -6.1255698204
         ],
         "line": {
          "color": "red",
          "width": 1
         },
         "lon": [
          98.885278,
          106.65599823
         ],
         "mode": "lines",
         "opacity": 0.6,
         "showlegend": false,
         "type": "scattergeo",
         "uid": "caeed89d-0ac8-4dc9-94fa-4396973ec99f",
         "visible": false
        },
        {
         "hoverinfo": "skip",
         "lat": [
          33.94250107,
          40.63980103
         ],
         "line": {
          "color": "red",
          "width": 1
         },
         "lon": [
          -118.40799709999999,
          -73.77890015
         ],
         "mode": "lines",
         "opacity": 0.6,
         "showlegend": false,
         "type": "scattergeo",
         "uid": "147ec8b4-67b4-49cb-800e-038a0177e998",
         "visible": false
        },
        {
         "hoverinfo": "skip",
         "lat": [
          40.63980103,
          33.94250107
         ],
         "line": {
          "color": "red",
          "width": 1
         },
         "lon": [
          -73.77890015,
          -118.40799709999999
         ],
         "mode": "lines",
         "opacity": 0.6,
         "showlegend": false,
         "type": "scattergeo",
         "uid": "c7338f2b-64e6-4650-8a28-fbc6f16cee2c",
         "visible": false
        },
        {
         "hoverinfo": "skip",
         "lat": [
          33.51129913330078,
          35.1795005798
         ],
         "line": {
          "color": "red",
          "width": 1
         },
         "lon": [
          126.49299621582031,
          128.93800354
         ],
         "mode": "lines",
         "opacity": 0.6,
         "showlegend": false,
         "type": "scattergeo",
         "uid": "5e136d4f-bf79-4a66-8dc4-f394f920641d",
         "visible": false
        },
        {
         "hoverinfo": "skip",
         "lat": [
          40.471926,
          41.2971
         ],
         "line": {
          "color": "red",
          "width": 1
         },
         "lon": [
          -3.56264,
          2.0784599999999998
         ],
         "mode": "lines",
         "opacity": 0.6,
         "showlegend": false,
         "type": "scattergeo",
         "uid": "a8610659-b653-4948-ad8f-a144e3646f29",
         "visible": false
        },
        {
         "hoverinfo": "skip",
         "lat": [
          -6.1255698204,
          3.6422220000000003
         ],
         "line": {
          "color": "red",
          "width": 1
         },
         "lon": [
          106.65599823,
          98.885278
         ],
         "mode": "lines",
         "opacity": 0.6,
         "showlegend": false,
         "type": "scattergeo",
         "uid": "d1b7ee60-f818-4c09-957a-e96ec002f482",
         "visible": false
        },
        {
         "hoverinfo": "skip",
         "lat": [
          40.63980103,
          51.4706
         ],
         "line": {
          "color": "red",
          "width": 1
         },
         "lon": [
          -73.77890015,
          -0.461941
         ],
         "mode": "lines",
         "opacity": 0.6,
         "showlegend": false,
         "type": "scattergeo",
         "uid": "01bd076f-7e7d-4ed5-a080-440186cd36e3",
         "visible": false
        },
        {
         "hoverinfo": "skip",
         "lat": [
          51.4706,
          40.63980103
         ],
         "line": {
          "color": "red",
          "width": 1
         },
         "lon": [
          -0.461941,
          -73.77890015
         ],
         "mode": "lines",
         "opacity": 0.6,
         "showlegend": false,
         "type": "scattergeo",
         "uid": "bde170d6-aa93-4846-9a33-e36cc8c5238f",
         "visible": false
        },
        {
         "hoverinfo": "skip",
         "lat": [
          35.1795005798,
          33.51129913330078
         ],
         "line": {
          "color": "red",
          "width": 1
         },
         "lon": [
          128.93800354,
          126.49299621582031
         ],
         "mode": "lines",
         "opacity": 0.6,
         "showlegend": false,
         "type": "scattergeo",
         "uid": "f848e16e-f1ba-4a8a-83c1-e1762f9a5b92",
         "visible": false
        },
        {
         "hoverinfo": "skip",
         "lat": [
          8.1132,
          13.681099891662598
         ],
         "line": {
          "color": "red",
          "width": 1
         },
         "lon": [
          98.316902,
          100.74700164794922
         ],
         "mode": "lines",
         "opacity": 0.6,
         "showlegend": false,
         "type": "scattergeo",
         "uid": "f9ec98f7-ab11-4c08-ab62-9941c544ff82",
         "visible": false
        },
        {
         "hoverinfo": "skip",
         "lat": [
          38.292400360100004,
          40.976898
         ],
         "line": {
          "color": "red",
          "width": 1
         },
         "lon": [
          27.156999588,
          28.8146
         ],
         "mode": "lines",
         "opacity": 0.6,
         "showlegend": false,
         "type": "scattergeo",
         "uid": "754de18e-f718-4e88-a68e-d27ec97ff46c",
         "visible": false
        },
        {
         "hoverinfo": "skip",
         "lat": [
          -26.1392,
          -29.6144444444
         ],
         "line": {
          "color": "red",
          "width": 1
         },
         "lon": [
          28.246,
          31.119722222199997
         ],
         "mode": "lines",
         "opacity": 0.6,
         "showlegend": false,
         "type": "scattergeo",
         "uid": "2a95418c-b783-4bf8-9351-f89d3ceb5b84",
         "visible": false
        },
        {
         "hoverinfo": "skip",
         "lat": [
          40.976898,
          38.292400360100004
         ],
         "line": {
          "color": "red",
          "width": 1
         },
         "lon": [
          28.8146,
          27.156999588
         ],
         "mode": "lines",
         "opacity": 0.6,
         "showlegend": false,
         "type": "scattergeo",
         "uid": "db7db064-3f60-478d-bf1c-0c7fd364ad03",
         "visible": false
        },
        {
         "hoverinfo": "skip",
         "lat": [
          -29.6144444444,
          -26.1392
         ],
         "line": {
          "color": "red",
          "width": 1
         },
         "lon": [
          31.119722222199997,
          28.246
         ],
         "mode": "lines",
         "opacity": 0.6,
         "showlegend": false,
         "type": "scattergeo",
         "uid": "0d01965b-d6a2-49fe-8b6d-9530d8dbfca6",
         "visible": false
        },
        {
         "hoverinfo": "skip",
         "lat": [
          4.70159,
          3.54322
         ],
         "line": {
          "color": "red",
          "width": 1
         },
         "lon": [
          -74.1469,
          -76.3816
         ],
         "mode": "lines",
         "opacity": 0.6,
         "showlegend": false,
         "type": "scattergeo",
         "uid": "b82babf2-85b7-43e5-8c5a-02727402aecf",
         "visible": false
        },
        {
         "hoverinfo": "skip",
         "lat": [
          13.681099891662598,
          8.1132
         ],
         "line": {
          "color": "red",
          "width": 1
         },
         "lon": [
          100.74700164794922,
          98.316902
         ],
         "mode": "lines",
         "opacity": 0.6,
         "showlegend": false,
         "type": "scattergeo",
         "uid": "9e03a4aa-7060-4474-a585-59be3076195b",
         "visible": false
        },
        {
         "hoverinfo": "skip",
         "lat": [
          51.4706,
          25.252799987800003
         ],
         "line": {
          "color": "red",
          "width": 1
         },
         "lon": [
          -0.461941,
          55.3643989563
         ],
         "mode": "lines",
         "opacity": 0.6,
         "showlegend": false,
         "type": "scattergeo",
         "uid": "d33f8888-8f15-4a36-9b0c-aee754cebcd4",
         "visible": false
        }
       ],
       "_js2py_layoutDelta": {},
       "_js2py_pointsCallback": {},
       "_js2py_relayout": {},
       "_js2py_restyle": {},
       "_js2py_traceDeltas": {},
       "_js2py_update": {},
       "_model_module_version": "0.8.0",
       "_py2js_addTraces": {},
       "_py2js_animate": {},
       "_py2js_deleteTraces": {},
       "_py2js_moveTraces": {},
       "_py2js_relayout": {},
       "_py2js_removeLayoutProps": {},
       "_py2js_removeTraceProps": {},
       "_py2js_restyle": {},
       "_py2js_update": {},
       "_view_module_version": "0.8.0"
      }
     },
     "74cfa3b95e2f493ea8c2ccde81982b51": {
      "buffers": [
       {
        "data": "a5p3nKIjOsB37/+ffvtAwCroKTtMnT3Aklz+Q/qtNUD9//8/JfU4QLwHAIC3QDlAj8Ng/gp9REAB+n3/5kU5QOz7/19tJUNAAAAAwBn5QMBrKovCLtZCwP///99aYjvAqun//7QWM0AAAABgdGQ3QAEAAMBACkRAGy/dJAaRPEABAADgtSQ/QK7//5/y9gVAAAAAILlcK0Cjs8wiFE82QL7BFyZTZSpAfdCzWfU5IEAt7v9flYAYwAouVtRgmvU/v30dOGcELUAy5q4l5BM5QAAAAIALvEJA9///HxB/IcAAAACgGJQ+QIdOz7uxxkFAAAAAoKA4NUABAACgqTI/QAAAAEBywUBArK3YX3bHQkAAAADAOWNFQAAAAMD+ykBA17T/vzmjJUAAAABAi2RBQAbJ//8fMjpAAQMAQEDTK0DS//+fcJ0kQAAAAAA9CzBAeCy2SUUjDUAAAAAgqaM2QGMuAABNxDJA////H/KEHcD////fGz8UwFHt/9/5lkFAsb/snjy8SUDpEDgSaDxEQCDSb18HpkRAl5APejYLKMB1zeSbbc4SQCkMBOCj+EBAqz5XW7FvM0AI5gkA5VFEQAAAAGA7z0JAQA8AIFgJNUBaHwDAS8c5QA+Jeyx9qBhArzIAgBbpNsAzVwBARxIrwAAAAMBIoDfA",
        "encoding": "base64",
        "path": [
         "_data",
         0,
         "lat",
         "value"
        ]
       },
       {
        "data": "5dAi2/k+PEBI/v//CJoyQBT0lB2mHj9AGuHtQQiUQ0AAAABAcllHQKUAAKCkrktAVFInoInQPEB7EW3H1M1JQAvy/x8xKDtAAAAAAKrlYkDOjlTf+RpiQAAAAIC+I2NAXQIAoIs3UkAAAADgIlNcQAAAAKBwJV1AjgWFQZlGU0AAAAAghXNeQET//59wbVlAAAAA4M4vWUCrs1pgj3pcQKSMuAA0bVNAXoJTH0iUWEBeBQDg+6laQA9Iwr6d/1lAKUF/oUdBXkDEeTiB6U5eQAAAACDdnF9Awf7/H7DKXEAAAACgm/xZQDV9dsD1eGFA////36VzWkD/////gFVeQAAAAECNn19AtMh2vp+yX0AAAADgJLZhQP///59uTmBAW7z/X7qpWkAAAAAgBO5gQEXY/x9Y6V9AUq3/H9kmWUA/AQDgp/5eQAAAAGC8DFtAkncOZai4WEAAAABg53NcQNr9/z+bvVhAAAAAQF4yXEABAADAdONdQKL6/x8EHmBASZ7r+3CQ3b8cX3tmSYAMwHBa8KKvoABAPDHrxVBHU8AT8kHPZolSwDhX3p8cml3A2QbuQJ3EWMBexgOA2XFSwAAAAAAAmF7AEwEAYCK4VcBSrf8f2QZZwAK8BRIU21LAAwYAgOCURcApCABAFfxRwAAAAIAEVEfA",
        "encoding": "base64",
        "path": [
         "_data",
         0,
         "lon",
         "value"
        ]
       }
      ],
      "model_module": "plotlywidget",
      "model_module_version": "0.8.0",
      "model_name": "FigureModel",
      "state": {
       "_config": {
        "plotlyServerURL": "https://plot.ly"
       },
       "_data": [
        {
         "hovertext": [
          "JNB",
          "CPT",
          "DUR",
          "JED",
          "RUH",
          "DXB",
          "IST",
          "DOH",
          "ADB",
          "SYD",
          "MEL",
          "BNE",
          "BOM",
          "CAN",
          "PEK",
          "DEL",
          "PVG",
          "KUL",
          "BKK",
          "HKG",
          "BLR",
          "HKT",
          "CGK",
          "SIN",
          "MNL",
          "TPE",
          "ICN",
          "DPS",
          "CTU",
          "HND",
          "HAN",
          "SHA",
          "CJU",
          "GMP",
          "CTS",
          "FUK",
          "SGN",
          "ITM",
          "OKA",
          "DMK",
          "CEB",
          "DAD",
          "KNO",
          "SZX",
          "CNX",
          "SUB",
          "UPG",
          "PUS",
          "LHR",
          "MAD",
          "BCN",
          "LIM",
          "BOG",
          "LAX",
          "MEX",
          "JFK",
          "SFO",
          "CUN",
          "MTY",
          "MDE",
          "SDU",
          "CUZ",
          "CGH"
         ],
         "lat": {
          "dtype": "float64",
          "shape": [
           63
          ],
          "value": {}
         },
         "lon": {
          "dtype": "float64",
          "shape": [
           63
          ],
          "value": {}
         },
         "marker": {
          "color": "rgba(155, 0, 0, .6)"
         },
         "mode": "markers",
         "type": "scattergeo",
         "uid": "d81b9c08-b271-4791-ac34-5bf44c386f80"
        },
        {
         "hoverinfo": "skip",
         "lat": [
          33.51129913330078,
          37.5583
         ],
         "line": {
          "color": "red",
          "width": 1
         },
         "lon": [
          126.49299621582031,
          126.791
         ],
         "mode": "lines",
         "opacity": 0.6,
         "showlegend": false,
         "type": "scattergeo",
         "uid": "852492bb-a785-4fe8-a776-6586ddaa50b9",
         "visible": false
        },
        {
         "hoverinfo": "skip",
         "lat": [
          37.5583,
          33.51129913330078
         ],
         "line": {
          "color": "red",
          "width": 1
         },
         "lon": [
          126.791,
          126.49299621582031
         ],
         "mode": "lines",
         "opacity": 0.6,
         "showlegend": false,
         "type": "scattergeo",
         "uid": "3896567d-f32b-4922-abb0-6a4a1e91740b",
         "visible": false
        },
        {
         "hoverinfo": "skip",
         "lat": [
          42.77519989013672,
          35.552299
         ],
         "line": {
          "color": "red",
          "width": 1
         },
         "lon": [
          141.69200134277344,
          139.779999
         ],
         "mode": "lines",
         "opacity": 0.6,
         "showlegend": false,
         "type": "scattergeo",
         "uid": "eb270c05-7cd3-4ce3-8edb-9cff1a41e7b6",
         "visible": false
        },
        {
         "hoverinfo": "skip",
         "lat": [
          35.552299,
          42.77519989013672
         ],
         "line": {
          "color": "red",
          "width": 1
         },
         "lon": [
          139.779999,
          141.69200134277344
         ],
         "mode": "lines",
         "opacity": 0.6,
         "showlegend": false,
         "type": "scattergeo",
         "uid": "cd6a5a02-207e-46ef-bdcd-7d4319cf2160",
         "visible": false
        },
        {
         "hoverinfo": "skip",
         "lat": [
          35.552299,
          33.585899353027344
         ],
         "line": {
          "color": "red",
          "width": 1
         },
         "lon": [
          139.779999,
          130.45100402832028
         ],
         "mode": "lines",
         "opacity": 0.6,
         "showlegend": false,
         "type": "scattergeo",
         "uid": "d66c9763-cf6a-42b8-88ce-32b144898c49",
         "visible": false
        },
        {
         "hoverinfo": "skip",
         "lat": [
          33.585899353027344,
          35.552299
         ],
         "line": {
          "color": "red",
          "width": 1
         },
         "lon": [
          130.45100402832028,
          139.779999
         ],
         "mode": "lines",
         "opacity": 0.6,
         "showlegend": false,
         "type": "scattergeo",
         "uid": "ca27af59-51aa-4698-a024-f4918eb92150",
         "visible": false
        },
        {
         "hoverinfo": "skip",
         "lat": [
          -37.673302,
          -33.94609832763672
         ],
         "line": {
          "color": "red",
          "width": 1
         },
         "lon": [
          144.843002,
          151.177001953125
         ],
         "mode": "lines",
         "opacity": 0.6,
         "showlegend": false,
         "type": "scattergeo",
         "uid": "1294f649-b3f9-4844-82d5-9d34f8a8d68b",
         "visible": false
        },
        {
         "hoverinfo": "skip",
         "lat": [
          -33.94609832763672,
          -37.673302
         ],
         "line": {
          "color": "red",
          "width": 1
         },
         "lon": [
          151.177001953125,
          144.843002
         ],
         "mode": "lines",
         "opacity": 0.6,
         "showlegend": false,
         "type": "scattergeo",
         "uid": "bddc889b-4943-4dfc-b43e-3e533edaaba5",
         "visible": false
        },
        {
         "hoverinfo": "skip",
         "lat": [
          21.221200942993164,
          10.8187999725
         ],
         "line": {
          "color": "red",
          "width": 1
         },
         "lon": [
          105.80699920654295,
          106.652000427
         ],
         "mode": "lines",
         "opacity": 0.6,
         "showlegend": false,
         "type": "scattergeo",
         "uid": "c08dcbb8-5c25-48a0-b76c-78e467f555a0",
         "visible": false
        },
        {
         "hoverinfo": "skip",
         "lat": [
          10.8187999725,
          21.221200942993164
         ],
         "line": {
          "color": "red",
          "width": 1
         },
         "lon": [
          106.652000427,
          105.80699920654295
         ],
         "mode": "lines",
         "opacity": 0.6,
         "showlegend": false,
         "type": "scattergeo",
         "uid": "0ed6675e-6183-4c53-9bdc-979189c81d17",
         "visible": false
        },
        {
         "hoverinfo": "skip",
         "lat": [
          28.5665,
          19.088699340799998
         ],
         "line": {
          "color": "red",
          "width": 1
         },
         "lon": [
          77.103104,
          72.8678970337
         ],
         "mode": "lines",
         "opacity": 0.6,
         "showlegend": false,
         "type": "scattergeo",
         "uid": "0b5e16ca-4602-4ac1-bc86-3f0d99af0aab",
         "visible": false
        },
        {
         "hoverinfo": "skip",
         "lat": [
          19.088699340799998,
          28.5665
         ],
         "line": {
          "color": "red",
          "width": 1
         },
         "lon": [
          72.8678970337,
          77.103104
         ],
         "mode": "lines",
         "opacity": 0.6,
         "showlegend": false,
         "type": "scattergeo",
         "uid": "aeb053d9-e9e9-4d73-87e1-88817fd5a038",
         "visible": false
        },
        {
         "hoverinfo": "skip",
         "lat": [
          25.0777,
          22.308901000000002
         ],
         "line": {
          "color": "red",
          "width": 1
         },
         "lon": [
          121.233002,
          113.915001
         ],
         "mode": "lines",
         "opacity": 0.6,
         "showlegend": false,
         "type": "scattergeo",
         "uid": "74d6399e-b494-464b-a479-15c4cf3cb4a1",
         "visible": false
        },
        {
         "hoverinfo": "skip",
         "lat": [
          22.308901000000002,
          25.0777
         ],
         "line": {
          "color": "red",
          "width": 1
         },
         "lon": [
          113.915001,
          121.233002
         ],
         "mode": "lines",
         "opacity": 0.6,
         "showlegend": false,
         "type": "scattergeo",
         "uid": "79f35856-9769-4e5c-aee7-93f0c85539b1",
         "visible": false
        },
        {
         "hoverinfo": "skip",
         "lat": [
          40.0801010131836,
          31.19790077209473
         ],
         "line": {
          "color": "red",
          "width": 1
         },
         "lon": [
          116.58499908447266,
          121.33599853515624
         ],
         "mode": "lines",
         "opacity": 0.6,
         "showlegend": false,
         "type": "scattergeo",
         "uid": "d01009fd-2a36-457b-8bef-526217731370",
         "visible": false
        },
        {
         "hoverinfo": "skip",
         "lat": [
          31.19790077209473,
          40.0801010131836
         ],
         "line": {
          "color": "red",
          "width": 1
         },
         "lon": [
          121.33599853515624,
          116.58499908447266
         ],
         "mode": "lines",
         "opacity": 0.6,
         "showlegend": false,
         "type": "scattergeo",
         "uid": "af482622-535f-4786-92c4-9267f474aa17",
         "visible": false
        },
        {
         "hoverinfo": "skip",
         "lat": [
          26.1958007812,
          35.552299
         ],
         "line": {
          "color": "red",
          "width": 1
         },
         "lon": [
          127.64600372299999,
          139.779999
         ],
         "mode": "lines",
         "opacity": 0.6,
         "showlegend": false,
         "type": "scattergeo",
         "uid": "b46258c9-18fe-43a8-9b16-9f157746e233",
         "visible": false
        },
        {
         "hoverinfo": "skip",
         "lat": [
          35.552299,
          26.1958007812
         ],
         "line": {
          "color": "red",
          "width": 1
         },
         "lon": [
          139.779999,
          127.64600372299999
         ],
         "mode": "lines",
         "opacity": 0.6,
         "showlegend": false,
         "type": "scattergeo",
         "uid": "a5b06191-2754-4543-8f89-99af3e0851c7",
         "visible": false
        },
        {
         "hoverinfo": "skip",
         "lat": [
          35.552299,
          34.785499572753906
         ],
         "line": {
          "color": "red",
          "width": 1
         },
         "lon": [
          139.779999,
          135.43800354003906
         ],
         "mode": "lines",
         "opacity": 0.6,
         "showlegend": false,
         "type": "scattergeo",
         "uid": "178d2a5e-41d3-4be5-9bba-12e651cec7d8",
         "visible": false
        },
        {
         "hoverinfo": "skip",
         "lat": [
          34.785499572753906,
          35.552299
         ],
         "line": {
          "color": "red",
          "width": 1
         },
         "lon": [
          135.43800354003906,
          139.779999
         ],
         "mode": "lines",
         "opacity": 0.6,
         "showlegend": false,
         "type": "scattergeo",
         "uid": "3d4e0af7-ed51-4019-95de-fd7589e2beca",
         "visible": false
        },
        {
         "hoverinfo": "skip",
         "lat": [
          -7.379829883575439,
          -6.1255698204
         ],
         "line": {
          "color": "red",
          "width": 1
         },
         "lon": [
          112.78700256347656,
          106.65599823
         ],
         "mode": "lines",
         "opacity": 0.6,
         "showlegend": false,
         "type": "scattergeo",
         "uid": "7b6e526b-3983-40f3-978d-c29a62ed7ef3",
         "visible": false
        },
        {
         "hoverinfo": "skip",
         "lat": [
          -6.1255698204,
          -7.379829883575439
         ],
         "line": {
          "color": "red",
          "width": 1
         },
         "lon": [
          106.65599823,
          112.78700256347656
         ],
         "mode": "lines",
         "opacity": 0.6,
         "showlegend": false,
         "type": "scattergeo",
         "uid": "f7efbd07-46f3-4917-9be4-03733b0e71b0",
         "visible": false
        },
        {
         "hoverinfo": "skip",
         "lat": [
          24.957599639892567,
          21.6796
         ],
         "line": {
          "color": "red",
          "width": 1
         },
         "lon": [
          46.69879913330078,
          39.156502
         ],
         "mode": "lines",
         "opacity": 0.6,
         "showlegend": false,
         "type": "scattergeo",
         "uid": "8d508724-f73b-41f0-bb22-7893b15da5e9",
         "visible": false
        },
        {
         "hoverinfo": "skip",
         "lat": [
          21.6796,
          24.957599639892567
         ],
         "line": {
          "color": "red",
          "width": 1
         },
         "lon": [
          39.156502,
          46.69879913330078
         ],
         "mode": "lines",
         "opacity": 0.6,
         "showlegend": false,
         "type": "scattergeo",
         "uid": "a68a6de0-56d1-4f59-8bfe-4f924f0c7c7e",
         "visible": false
        },
        {
         "hoverinfo": "skip",
         "lat": [
          -23.626110076904297,
          -22.910499572800003
         ],
         "line": {
          "color": "red",
          "width": 1
         },
         "lon": [
          -46.65638732910156,
          -43.1631011963
         ],
         "mode": "lines",
         "opacity": 0.6,
         "showlegend": false,
         "type": "scattergeo",
         "uid": "e550e8b0-246e-4326-9fd9-47e319d06e03",
         "visible": false
        },
        {
         "hoverinfo": "skip",
         "lat": [
          -22.910499572800003,
          -23.626110076904297
         ],
         "line": {
          "color": "red",
          "width": 1
         },
         "lon": [
          -43.1631011963,
          -46.65638732910156
         ],
         "mode": "lines",
         "opacity": 0.6,
         "showlegend": false,
         "type": "scattergeo",
         "uid": "7b9511fa-23d4-431e-bc1d-4a57cf5b0c28",
         "visible": false
        },
        {
         "hoverinfo": "skip",
         "lat": [
          -26.1392,
          -33.9648017883
         ],
         "line": {
          "color": "red",
          "width": 1
         },
         "lon": [
          28.246,
          18.6016998291
         ],
         "mode": "lines",
         "opacity": 0.6,
         "showlegend": false,
         "type": "scattergeo",
         "uid": "daedeb6f-d327-494a-8ba1-986edc162c8b",
         "visible": false
        },
        {
         "hoverinfo": "skip",
         "lat": [
          -33.9648017883,
          -26.1392
         ],
         "line": {
          "color": "red",
          "width": 1
         },
         "lon": [
          18.6016998291,
          28.246
         ],
         "mode": "lines",
         "opacity": 0.6,
         "showlegend": false,
         "type": "scattergeo",
         "uid": "d973fbe9-84fd-4659-8d19-914a0090e4a8",
         "visible": false
        },
        {
         "hoverinfo": "skip",
         "lat": [
          -5.061629772186278,
          -6.1255698204
         ],
         "line": {
          "color": "red",
          "width": 1
         },
         "lon": [
          119.5540008544922,
          106.65599823
         ],
         "mode": "lines",
         "opacity": 0.6,
         "showlegend": false,
         "type": "scattergeo",
         "uid": "8d9b8904-3fac-4881-993e-040d911352fa",
         "visible": false
        },
        {
         "hoverinfo": "skip",
         "lat": [
          -6.1255698204,
          1.35019
         ],
         "line": {
          "color": "red",
          "width": 1
         },
         "lon": [
          106.65599823,
          103.994003
         ],
         "mode": "lines",
         "opacity": 0.6,
         "showlegend": false,
         "type": "scattergeo",
         "uid": "d84e84d6-2daf-42bb-ae08-d2094910872f",
         "visible": false
        },
        {
         "hoverinfo": "skip",
         "lat": [
          30.578500747680664,
          40.0801010131836
         ],
         "line": {
          "color": "red",
          "width": 1
         },
         "lon": [
          103.9469985961914,
          116.58499908447266
         ],
         "mode": "lines",
         "opacity": 0.6,
         "showlegend": false,
         "type": "scattergeo",
         "uid": "bbea64c2-0bcf-4ecd-afd2-f2ada9b08fa2",
         "visible": false
        },
        {
         "hoverinfo": "skip",
         "lat": [
          40.0801010131836,
          30.578500747680664
         ],
         "line": {
          "color": "red",
          "width": 1
         },
         "lon": [
          116.58499908447266,
          103.9469985961914
         ],
         "mode": "lines",
         "opacity": 0.6,
         "showlegend": false,
         "type": "scattergeo",
         "uid": "cbe7fd36-97fe-4b27-badc-ce638f40ead1",
         "visible": false
        },
        {
         "hoverinfo": "skip",
         "lat": [
          -33.94609832763672,
          -27.38419914245605
         ],
         "line": {
          "color": "red",
          "width": 1
         },
         "lon": [
          151.177001953125,
          153.11700439453125
         ],
         "mode": "lines",
         "opacity": 0.6,
         "showlegend": false,
         "type": "scattergeo",
         "uid": "4c819884-06d3-4e3d-9b6e-5d2b54599bd2",
         "visible": false
        },
        {
         "hoverinfo": "skip",
         "lat": [
          1.35019,
          -6.1255698204
         ],
         "line": {
          "color": "red",
          "width": 1
         },
         "lon": [
          103.994003,
          106.65599823
         ],
         "mode": "lines",
         "opacity": 0.6,
         "showlegend": false,
         "type": "scattergeo",
         "uid": "c026ee8e-159d-4099-a321-40f5ebe27433",
         "visible": false
        },
        {
         "hoverinfo": "skip",
         "lat": [
          -27.38419914245605,
          -33.94609832763672
         ],
         "line": {
          "color": "red",
          "width": 1
         },
         "lon": [
          153.11700439453125,
          151.177001953125
         ],
         "mode": "lines",
         "opacity": 0.6,
         "showlegend": false,
         "type": "scattergeo",
         "uid": "9abf460e-664e-4b02-b7d5-9b9c38c8f0bb",
         "visible": false
        },
        {
         "hoverinfo": "skip",
         "lat": [
          23.39240074157715,
          40.0801010131836
         ],
         "line": {
          "color": "red",
          "width": 1
         },
         "lon": [
          113.29900360107422,
          116.58499908447266
         ],
         "mode": "lines",
         "opacity": 0.6,
         "showlegend": false,
         "type": "scattergeo",
         "uid": "ef4e9f56-3b0d-49af-81c3-3bea9b503fbe",
         "visible": false
        },
        {
         "hoverinfo": "skip",
         "lat": [
          40.0801010131836,
          23.39240074157715
         ],
         "line": {
          "color": "red",
          "width": 1
         },
         "lon": [
          116.58499908447266,
          113.29900360107422
         ],
         "mode": "lines",
         "opacity": 0.6,
         "showlegend": false,
         "type": "scattergeo",
         "uid": "a3c972b1-0046-4b8e-b5c8-925cff602152",
         "visible": false
        },
        {
         "hoverinfo": "skip",
         "lat": [
          1.35019,
          2.7455799579619997
         ],
         "line": {
          "color": "red",
          "width": 1
         },
         "lon": [
          103.994003,
          101.70999908446998
         ],
         "mode": "lines",
         "opacity": 0.6,
         "showlegend": false,
         "type": "scattergeo",
         "uid": "ccfb3261-9e9d-462c-9b45-1142e51e6e64",
         "visible": false
        },
        {
         "hoverinfo": "skip",
         "lat": [
          2.7455799579619997,
          1.35019
         ],
         "line": {
          "color": "red",
          "width": 1
         },
         "lon": [
          101.70999908446998,
          103.994003
         ],
         "mode": "lines",
         "opacity": 0.6,
         "showlegend": false,
         "type": "scattergeo",
         "uid": "cc5568b2-cf09-4d9b-91a6-beab2837c451",
         "visible": false
        },
        {
         "hoverinfo": "skip",
         "lat": [
          -6.1255698204,
          -8.7481698989868
         ],
         "line": {
          "color": "red",
          "width": 1
         },
         "lon": [
          106.65599823,
          115.16699981689
         ],
         "mode": "lines",
         "opacity": 0.6,
         "showlegend": false,
         "type": "scattergeo",
         "uid": "8b985c77-c808-4c18-a1bc-181d03326ee3",
         "visible": false
        },
        {
         "hoverinfo": "skip",
         "lat": [
          37.61899948120117,
          33.94250107
         ],
         "line": {
          "color": "red",
          "width": 1
         },
         "lon": [
          -122.375,
          -118.40799709999999
         ],
         "mode": "lines",
         "opacity": 0.6,
         "showlegend": false,
         "type": "scattergeo",
         "uid": "bbf2f1ea-38a9-4b1a-83b4-bb841c23e388",
         "visible": false
        },
        {
         "hoverinfo": "skip",
         "lat": [
          33.94250107,
          37.61899948120117
         ],
         "line": {
          "color": "red",
          "width": 1
         },
         "lon": [
          -118.40799709999999,
          -122.375
         ],
         "mode": "lines",
         "opacity": 0.6,
         "showlegend": false,
         "type": "scattergeo",
         "uid": "6c9f8025-d09d-4824-b4c7-3a5f84cb1826",
         "visible": false
        },
        {
         "hoverinfo": "skip",
         "lat": [
          -8.7481698989868,
          -6.1255698204
         ],
         "line": {
          "color": "red",
          "width": 1
         },
         "lon": [
          115.16699981689,
          106.65599823
         ],
         "mode": "lines",
         "opacity": 0.6,
         "showlegend": false,
         "type": "scattergeo",
         "uid": "4540f737-1199-4a2e-adbe-1ce0cd7d65d4",
         "visible": false
        },
        {
         "hoverinfo": "skip",
         "lat": [
          22.308901000000002,
          13.681099891662598
         ],
         "line": {
          "color": "red",
          "width": 1
         },
         "lon": [
          113.915001,
          100.74700164794922
         ],
         "mode": "lines",
         "opacity": 0.6,
         "showlegend": false,
         "type": "scattergeo",
         "uid": "3cfa0add-7258-4851-ad38-8be5df2a9db0",
         "visible": false
        },
        {
         "hoverinfo": "skip",
         "lat": [
          13.681099891662598,
          22.308901000000002
         ],
         "line": {
          "color": "red",
          "width": 1
         },
         "lon": [
          100.74700164794922,
          113.915001
         ],
         "mode": "lines",
         "opacity": 0.6,
         "showlegend": false,
         "type": "scattergeo",
         "uid": "fb3f74f1-c4d7-40c2-91fc-fdbe8fc2ce4b",
         "visible": false
        },
        {
         "hoverinfo": "skip",
         "lat": [
          23.39240074157715,
          31.19790077209473
         ],
         "line": {
          "color": "red",
          "width": 1
         },
         "lon": [
          113.29900360107422,
          121.33599853515624
         ],
         "mode": "lines",
         "opacity": 0.6,
         "showlegend": false,
         "type": "scattergeo",
         "uid": "ae1ab57a-3ec4-42b1-aa53-d6b86a126540",
         "visible": false
        },
        {
         "hoverinfo": "skip",
         "lat": [
          31.19790077209473,
          23.39240074157715
         ],
         "line": {
          "color": "red",
          "width": 1
         },
         "lon": [
          121.33599853515624,
          113.29900360107422
         ],
         "mode": "lines",
         "opacity": 0.6,
         "showlegend": false,
         "type": "scattergeo",
         "uid": "00665675-6ca2-4f91-94b7-e079bb54ec33",
         "visible": false
        },
        {
         "hoverinfo": "skip",
         "lat": [
          13.1979,
          28.5665
         ],
         "line": {
          "color": "red",
          "width": 1
         },
         "lon": [
          77.706299,
          77.103104
         ],
         "mode": "lines",
         "opacity": 0.6,
         "showlegend": false,
         "type": "scattergeo",
         "uid": "14a3b7c0-53d4-4867-8913-68f61fbf20c9",
         "visible": false
        },
        {
         "hoverinfo": "skip",
         "lat": [
          -6.1255698204,
          -5.061629772186278
         ],
         "line": {
          "color": "red",
          "width": 1
         },
         "lon": [
          106.65599823,
          119.5540008544922
         ],
         "mode": "lines",
         "opacity": 0.6,
         "showlegend": false,
         "type": "scattergeo",
         "uid": "af4f94d9-8fd4-4f0f-b458-5a63546be490",
         "visible": false
        },
        {
         "hoverinfo": "skip",
         "lat": [
          28.5665,
          13.1979
         ],
         "line": {
          "color": "red",
          "width": 1
         },
         "lon": [
          77.103104,
          77.706299
         ],
         "mode": "lines",
         "opacity": 0.6,
         "showlegend": false,
         "type": "scattergeo",
         "uid": "164713ef-b0cb-47b1-a041-30833f3d82f8",
         "visible": false
        },
        {
         "hoverinfo": "skip",
         "lat": [
          25.252799987800003,
          25.273056
         ],
         "line": {
          "color": "red",
          "width": 1
         },
         "lon": [
          55.3643989563,
          51.608056
         ],
         "mode": "lines",
         "opacity": 0.6,
         "showlegend": false,
         "type": "scattergeo",
         "uid": "a2693f0b-9693-4b58-b1cb-20bf8d015d98",
         "visible": false
        },
        {
         "hoverinfo": "skip",
         "lat": [
          25.273056,
          25.252799987800003
         ],
         "line": {
          "color": "red",
          "width": 1
         },
         "lon": [
          51.608056,
          55.3643989563
         ],
         "mode": "lines",
         "opacity": 0.6,
         "showlegend": false,
         "type": "scattergeo",
         "uid": "53b91f0e-bd7f-4270-927c-ab4b9b5cf7d3",
         "visible": false
        },
        {
         "hoverinfo": "skip",
         "lat": [
          22.308901000000002,
          31.143400192260746
         ],
         "line": {
          "color": "red",
          "width": 1
         },
         "lon": [
          113.915001,
          121.80500030517578
         ],
         "mode": "lines",
         "opacity": 0.6,
         "showlegend": false,
         "type": "scattergeo",
         "uid": "3c3acba5-a306-45f6-9894-945aa0378895",
         "visible": false
        },
        {
         "hoverinfo": "skip",
         "lat": [
          31.143400192260746,
          22.308901000000002
         ],
         "line": {
          "color": "red",
          "width": 1
         },
         "lon": [
          121.80500030517578,
          113.915001
         ],
         "mode": "lines",
         "opacity": 0.6,
         "showlegend": false,
         "type": "scattergeo",
         "uid": "0866575c-4343-4b6b-a472-4cb819550e0b",
         "visible": false
        },
        {
         "hoverinfo": "skip",
         "lat": [
          19.4363,
          21.036500930800003
         ],
         "line": {
          "color": "red",
          "width": 1
         },
         "lon": [
          -99.072098,
          -86.8770980835
         ],
         "mode": "lines",
         "opacity": 0.6,
         "showlegend": false,
         "type": "scattergeo",
         "uid": "1e29d685-48eb-480a-a895-145c528b4e1d",
         "visible": false
        },
        {
         "hoverinfo": "skip",
         "lat": [
          21.036500930800003,
          19.4363
         ],
         "line": {
          "color": "red",
          "width": 1
         },
         "lon": [
          -86.8770980835,
          -99.072098
         ],
         "mode": "lines",
         "opacity": 0.6,
         "showlegend": false,
         "type": "scattergeo",
         "uid": "8f46cafe-4601-491d-89dc-71ba0c6bbe45",
         "visible": false
        },
        {
         "hoverinfo": "skip",
         "lat": [
          22.639299392700195,
          40.0801010131836
         ],
         "line": {
          "color": "red",
          "width": 1
         },
         "lon": [
          113.81099700927734,
          116.58499908447266
         ],
         "mode": "lines",
         "opacity": 0.6,
         "showlegend": false,
         "type": "scattergeo",
         "uid": "6ac98504-6ded-41c7-be6f-8f172ab18033",
         "visible": false
        },
        {
         "hoverinfo": "skip",
         "lat": [
          40.0801010131836,
          22.639299392700195
         ],
         "line": {
          "color": "red",
          "width": 1
         },
         "lon": [
          116.58499908447266,
          113.81099700927734
         ],
         "mode": "lines",
         "opacity": 0.6,
         "showlegend": false,
         "type": "scattergeo",
         "uid": "5703f33b-03ef-4782-8ce2-c35311f56c52",
         "visible": false
        },
        {
         "hoverinfo": "skip",
         "lat": [
          31.19790077209473,
          22.639299392700195
         ],
         "line": {
          "color": "red",
          "width": 1
         },
         "lon": [
          121.33599853515624,
          113.81099700927734
         ],
         "mode": "lines",
         "opacity": 0.6,
         "showlegend": false,
         "type": "scattergeo",
         "uid": "70baac57-3391-400b-aa2a-a635d6d82bbf",
         "visible": false
        },
        {
         "hoverinfo": "skip",
         "lat": [
          22.639299392700195,
          31.19790077209473
         ],
         "line": {
          "color": "red",
          "width": 1
         },
         "lon": [
          113.81099700927734,
          121.33599853515624
         ],
         "mode": "lines",
         "opacity": 0.6,
         "showlegend": false,
         "type": "scattergeo",
         "uid": "e70354aa-d42f-4453-a9ee-56c128e24102",
         "visible": false
        },
        {
         "hoverinfo": "skip",
         "lat": [
          4.70159,
          6.1645400000000015
         ],
         "line": {
          "color": "red",
          "width": 1
         },
         "lon": [
          -74.1469,
          -75.4231
         ],
         "mode": "lines",
         "opacity": 0.6,
         "showlegend": false,
         "type": "scattergeo",
         "uid": "f37f7fda-7412-4fd8-9bed-72a96225a9fd",
         "visible": false
        },
        {
         "hoverinfo": "skip",
         "lat": [
          14.5086,
          10.307499885559
         ],
         "line": {
          "color": "red",
          "width": 1
         },
         "lon": [
          121.019997,
          123.97899627686
         ],
         "mode": "lines",
         "opacity": 0.6,
         "showlegend": false,
         "type": "scattergeo",
         "uid": "1952fcf6-354c-4d39-8810-6181b9e477d2",
         "visible": false
        },
        {
         "hoverinfo": "skip",
         "lat": [
          10.307499885559,
          14.5086
         ],
         "line": {
          "color": "red",
          "width": 1
         },
         "lon": [
          123.97899627686,
          121.019997
         ],
         "mode": "lines",
         "opacity": 0.6,
         "showlegend": false,
         "type": "scattergeo",
         "uid": "a31bf06a-cbc9-4dde-a33b-1db4144f659e",
         "visible": false
        },
        {
         "hoverinfo": "skip",
         "lat": [
          -37.673302,
          -27.38419914245605
         ],
         "line": {
          "color": "red",
          "width": 1
         },
         "lon": [
          144.843002,
          153.11700439453125
         ],
         "mode": "lines",
         "opacity": 0.6,
         "showlegend": false,
         "type": "scattergeo",
         "uid": "75d3f8b9-8cd6-40c4-94a9-baed62052097",
         "visible": false
        },
        {
         "hoverinfo": "skip",
         "lat": [
          6.1645400000000015,
          4.70159
         ],
         "line": {
          "color": "red",
          "width": 1
         },
         "lon": [
          -75.4231,
          -74.1469
         ],
         "mode": "lines",
         "opacity": 0.6,
         "showlegend": false,
         "type": "scattergeo",
         "uid": "7de2d20a-7475-4cba-af2f-5eb1e94e8426",
         "visible": false
        },
        {
         "hoverinfo": "skip",
         "lat": [
          13.912599563599999,
          18.7667999268
         ],
         "line": {
          "color": "red",
          "width": 1
         },
         "lon": [
          100.607002258,
          98.962600708
         ],
         "mode": "lines",
         "opacity": 0.6,
         "showlegend": false,
         "type": "scattergeo",
         "uid": "99aabcbd-9ba1-4770-8524-cb17aef157f1",
         "visible": false
        },
        {
         "hoverinfo": "skip",
         "lat": [
          18.7667999268,
          13.912599563599999
         ],
         "line": {
          "color": "red",
          "width": 1
         },
         "lon": [
          98.962600708,
          100.607002258
         ],
         "mode": "lines",
         "opacity": 0.6,
         "showlegend": false,
         "type": "scattergeo",
         "uid": "dba4e75a-7004-41aa-ac9b-cc8146090875",
         "visible": false
        },
        {
         "hoverinfo": "skip",
         "lat": [
          1.35019,
          22.308901000000002
         ],
         "line": {
          "color": "red",
          "width": 1
         },
         "lon": [
          103.994003,
          113.915001
         ],
         "mode": "lines",
         "opacity": 0.6,
         "showlegend": false,
         "type": "scattergeo",
         "uid": "5cd87910-774e-4721-8f36-bb2c61af2d95",
         "visible": false
        },
        {
         "hoverinfo": "skip",
         "lat": [
          22.308901000000002,
          1.35019
         ],
         "line": {
          "color": "red",
          "width": 1
         },
         "lon": [
          113.915001,
          103.994003
         ],
         "mode": "lines",
         "opacity": 0.6,
         "showlegend": false,
         "type": "scattergeo",
         "uid": "1bebd7e4-c2e5-44a2-8d51-2110a173a7e8",
         "visible": false
        },
        {
         "hoverinfo": "skip",
         "lat": [
          -27.38419914245605,
          -37.673302
         ],
         "line": {
          "color": "red",
          "width": 1
         },
         "lon": [
          153.11700439453125,
          144.843002
         ],
         "mode": "lines",
         "opacity": 0.6,
         "showlegend": false,
         "type": "scattergeo",
         "uid": "d72a178a-fc5a-4ec9-b3ce-b333f4032453",
         "visible": false
        },
        {
         "hoverinfo": "skip",
         "lat": [
          37.46910095214844,
          22.308901000000002
         ],
         "line": {
          "color": "red",
          "width": 1
         },
         "lon": [
          126.45099639892578,
          113.915001
         ],
         "mode": "lines",
         "opacity": 0.6,
         "showlegend": false,
         "type": "scattergeo",
         "uid": "a449fbaf-88de-4e14-8b65-5757eaba4d5b",
         "visible": false
        },
        {
         "hoverinfo": "skip",
         "lat": [
          22.308901000000002,
          37.46910095214844
         ],
         "line": {
          "color": "red",
          "width": 1
         },
         "lon": [
          113.915001,
          126.45099639892578
         ],
         "mode": "lines",
         "opacity": 0.6,
         "showlegend": false,
         "type": "scattergeo",
         "uid": "761c8b84-7b9d-4552-9dd2-3c8168e8172f",
         "visible": false
        },
        {
         "hoverinfo": "skip",
         "lat": [
          19.4363,
          25.7784996033
         ],
         "line": {
          "color": "red",
          "width": 1
         },
         "lon": [
          -99.072098,
          -100.107002258
         ],
         "mode": "lines",
         "opacity": 0.6,
         "showlegend": false,
         "type": "scattergeo",
         "uid": "582f0d03-1df9-4d24-983d-7860a56e6b9e",
         "visible": false
        },
        {
         "hoverinfo": "skip",
         "lat": [
          25.7784996033,
          19.4363
         ],
         "line": {
          "color": "red",
          "width": 1
         },
         "lon": [
          -100.107002258,
          -99.072098
         ],
         "mode": "lines",
         "opacity": 0.6,
         "showlegend": false,
         "type": "scattergeo",
         "uid": "242a2d87-09f5-442a-84f7-de42edff2e48",
         "visible": false
        },
        {
         "hoverinfo": "skip",
         "lat": [
          8.1132,
          13.912599563599999
         ],
         "line": {
          "color": "red",
          "width": 1
         },
         "lon": [
          98.316902,
          100.607002258
         ],
         "mode": "lines",
         "opacity": 0.6,
         "showlegend": false,
         "type": "scattergeo",
         "uid": "4bb03f76-8424-4727-8d66-2b5aa75fc7af",
         "visible": false
        },
        {
         "hoverinfo": "skip",
         "lat": [
          13.912599563599999,
          8.1132
         ],
         "line": {
          "color": "red",
          "width": 1
         },
         "lon": [
          100.607002258,
          98.316902
         ],
         "mode": "lines",
         "opacity": 0.6,
         "showlegend": false,
         "type": "scattergeo",
         "uid": "ea773627-afce-4219-807e-237119b0c434",
         "visible": false
        },
        {
         "hoverinfo": "skip",
         "lat": [
          16.043899536132812,
          10.8187999725
         ],
         "line": {
          "color": "red",
          "width": 1
         },
         "lon": [
          108.1989974975586,
          106.652000427
         ],
         "mode": "lines",
         "opacity": 0.6,
         "showlegend": false,
         "type": "scattergeo",
         "uid": "376291fa-94b9-4767-b11f-6ef3b19ff79c",
         "visible": false
        },
        {
         "hoverinfo": "skip",
         "lat": [
          -12.0219,
          -13.535699844400005
         ],
         "line": {
          "color": "red",
          "width": 1
         },
         "lon": [
          -77.114305,
          -71.9387969971
         ],
         "mode": "lines",
         "opacity": 0.6,
         "showlegend": false,
         "type": "scattergeo",
         "uid": "e7c8edba-d1af-46f9-b00b-f46da2c7ca81",
         "visible": false
        },
        {
         "hoverinfo": "skip",
         "lat": [
          41.2971,
          40.471926
         ],
         "line": {
          "color": "red",
          "width": 1
         },
         "lon": [
          2.0784599999999998,
          -3.56264
         ],
         "mode": "lines",
         "opacity": 0.6,
         "showlegend": false,
         "type": "scattergeo",
         "uid": "654d9efe-19e7-4232-8fb1-c4938610f15c",
         "visible": false
        },
        {
         "hoverinfo": "skip",
         "lat": [
          19.088699340799998,
          13.1979
         ],
         "line": {
          "color": "red",
          "width": 1
         },
         "lon": [
          72.8678970337,
          77.706299
         ],
         "mode": "lines",
         "opacity": 0.6,
         "showlegend": false,
         "type": "scattergeo",
         "uid": "b6fdd4ab-7a30-4711-8cf1-2fff2cafed21",
         "visible": false
        },
        {
         "hoverinfo": "skip",
         "lat": [
          10.8187999725,
          16.043899536132812
         ],
         "line": {
          "color": "red",
          "width": 1
         },
         "lon": [
          106.652000427,
          108.1989974975586
         ],
         "mode": "lines",
         "opacity": 0.6,
         "showlegend": false,
         "type": "scattergeo",
         "uid": "42efe00f-4781-42a5-8e3b-47a1ab79cb22",
         "visible": false
        },
        {
         "hoverinfo": "skip",
         "lat": [
          13.1979,
          19.088699340799998
         ],
         "line": {
          "color": "red",
          "width": 1
         },
         "lon": [
          77.706299,
          72.8678970337
         ],
         "mode": "lines",
         "opacity": 0.6,
         "showlegend": false,
         "type": "scattergeo",
         "uid": "ac0bf387-8e33-453c-9645-d484d170729e",
         "visible": false
        },
        {
         "hoverinfo": "skip",
         "lat": [
          -13.535699844400005,
          -12.0219
         ],
         "line": {
          "color": "red",
          "width": 1
         },
         "lon": [
          -71.9387969971,
          -77.114305
         ],
         "mode": "lines",
         "opacity": 0.6,
         "showlegend": false,
         "type": "scattergeo",
         "uid": "7cfeaa18-32da-443c-a6e0-9961b48c89cd",
         "visible": false
        },
        {
         "hoverinfo": "skip",
         "lat": [
          3.6422220000000003,
          -6.1255698204
         ],
         "line": {
          "color": "red",
          "width": 1
         },
         "lon": [
          98.885278,
          106.65599823
         ],
         "mode": "lines",
         "opacity": 0.6,
         "showlegend": false,
         "type": "scattergeo",
         "uid": "54fe3cdc-b938-4f42-a004-c52b006a18a6",
         "visible": false
        },
        {
         "hoverinfo": "skip",
         "lat": [
          33.94250107,
          40.63980103
         ],
         "line": {
          "color": "red",
          "width": 1
         },
         "lon": [
          -118.40799709999999,
          -73.77890015
         ],
         "mode": "lines",
         "opacity": 0.6,
         "showlegend": false,
         "type": "scattergeo",
         "uid": "b24b9aea-a199-4291-b84f-721b5d3b14d6",
         "visible": false
        },
        {
         "hoverinfo": "skip",
         "lat": [
          40.63980103,
          33.94250107
         ],
         "line": {
          "color": "red",
          "width": 1
         },
         "lon": [
          -73.77890015,
          -118.40799709999999
         ],
         "mode": "lines",
         "opacity": 0.6,
         "showlegend": false,
         "type": "scattergeo",
         "uid": "8fd7bcd6-4756-4d2d-8d62-0d2a00b2bef4",
         "visible": false
        },
        {
         "hoverinfo": "skip",
         "lat": [
          33.51129913330078,
          35.1795005798
         ],
         "line": {
          "color": "red",
          "width": 1
         },
         "lon": [
          126.49299621582031,
          128.93800354
         ],
         "mode": "lines",
         "opacity": 0.6,
         "showlegend": false,
         "type": "scattergeo",
         "uid": "a2ab3e1b-bcb3-4544-bdc6-b413a5fde5a8",
         "visible": false
        },
        {
         "hoverinfo": "skip",
         "lat": [
          40.471926,
          41.2971
         ],
         "line": {
          "color": "red",
          "width": 1
         },
         "lon": [
          -3.56264,
          2.0784599999999998
         ],
         "mode": "lines",
         "opacity": 0.6,
         "showlegend": false,
         "type": "scattergeo",
         "uid": "a9ba2a50-7d1d-4531-8b6a-8c48bc973335",
         "visible": false
        },
        {
         "hoverinfo": "skip",
         "lat": [
          -6.1255698204,
          3.6422220000000003
         ],
         "line": {
          "color": "red",
          "width": 1
         },
         "lon": [
          106.65599823,
          98.885278
         ],
         "mode": "lines",
         "opacity": 0.6,
         "showlegend": false,
         "type": "scattergeo",
         "uid": "62402461-25a7-4cfe-bfec-e6abfdaeb6ac",
         "visible": false
        },
        {
         "hoverinfo": "skip",
         "lat": [
          40.63980103,
          51.4706
         ],
         "line": {
          "color": "red",
          "width": 1
         },
         "lon": [
          -73.77890015,
          -0.461941
         ],
         "mode": "lines",
         "opacity": 0.6,
         "showlegend": false,
         "type": "scattergeo",
         "uid": "61535706-b5fb-4ec2-8efd-240183d8b947",
         "visible": false
        },
        {
         "hoverinfo": "skip",
         "lat": [
          51.4706,
          40.63980103
         ],
         "line": {
          "color": "red",
          "width": 1
         },
         "lon": [
          -0.461941,
          -73.77890015
         ],
         "mode": "lines",
         "opacity": 0.6,
         "showlegend": false,
         "type": "scattergeo",
         "uid": "daa8088c-b359-45ee-82bc-a7ccc50b0424",
         "visible": false
        },
        {
         "hoverinfo": "skip",
         "lat": [
          35.1795005798,
          33.51129913330078
         ],
         "line": {
          "color": "red",
          "width": 1
         },
         "lon": [
          128.93800354,
          126.49299621582031
         ],
         "mode": "lines",
         "opacity": 0.6,
         "showlegend": false,
         "type": "scattergeo",
         "uid": "8c803794-86db-45b1-85e1-7c8b0e0b9b2e",
         "visible": false
        },
        {
         "hoverinfo": "skip",
         "lat": [
          8.1132,
          13.681099891662598
         ],
         "line": {
          "color": "red",
          "width": 1
         },
         "lon": [
          98.316902,
          100.74700164794922
         ],
         "mode": "lines",
         "opacity": 0.6,
         "showlegend": false,
         "type": "scattergeo",
         "uid": "78e1fdd2-bb83-441d-afb0-524a11aae2b2",
         "visible": false
        },
        {
         "hoverinfo": "skip",
         "lat": [
          38.292400360100004,
          40.976898
         ],
         "line": {
          "color": "red",
          "width": 1
         },
         "lon": [
          27.156999588,
          28.8146
         ],
         "mode": "lines",
         "opacity": 0.6,
         "showlegend": false,
         "type": "scattergeo",
         "uid": "2db929a5-703c-42d1-ba4a-bb84555b7d37",
         "visible": false
        },
        {
         "hoverinfo": "skip",
         "lat": [
          -26.1392,
          -29.6144444444
         ],
         "line": {
          "color": "red",
          "width": 1
         },
         "lon": [
          28.246,
          31.119722222199997
         ],
         "mode": "lines",
         "opacity": 0.6,
         "showlegend": false,
         "type": "scattergeo",
         "uid": "80d30561-53b3-4a24-a21b-f61307fc270b",
         "visible": false
        },
        {
         "hoverinfo": "skip",
         "lat": [
          40.976898,
          38.292400360100004
         ],
         "line": {
          "color": "red",
          "width": 1
         },
         "lon": [
          28.8146,
          27.156999588
         ],
         "mode": "lines",
         "opacity": 0.6,
         "showlegend": false,
         "type": "scattergeo",
         "uid": "7306014c-bb05-4dc3-90f8-d327fdb9d131",
         "visible": false
        },
        {
         "hoverinfo": "skip",
         "lat": [
          -29.6144444444,
          -26.1392
         ],
         "line": {
          "color": "red",
          "width": 1
         },
         "lon": [
          31.119722222199997,
          28.246
         ],
         "mode": "lines",
         "opacity": 0.6,
         "showlegend": false,
         "type": "scattergeo",
         "uid": "eb9ebc33-4eeb-4998-acd5-d4003aa86629",
         "visible": false
        },
        {
         "hoverinfo": "skip",
         "lat": [
          4.70159,
          3.54322
         ],
         "line": {
          "color": "red",
          "width": 1
         },
         "lon": [
          -74.1469,
          -76.3816
         ],
         "mode": "lines",
         "opacity": 0.6,
         "showlegend": false,
         "type": "scattergeo",
         "uid": "c3324d6b-fd5f-49e7-aaeb-8c8857848e7c",
         "visible": false
        },
        {
         "hoverinfo": "skip",
         "lat": [
          13.681099891662598,
          8.1132
         ],
         "line": {
          "color": "red",
          "width": 1
         },
         "lon": [
          100.74700164794922,
          98.316902
         ],
         "mode": "lines",
         "opacity": 0.6,
         "showlegend": false,
         "type": "scattergeo",
         "uid": "afbc9311-28cc-4b01-bf83-2ead7011f0dc",
         "visible": false
        },
        {
         "hoverinfo": "skip",
         "lat": [
          51.4706,
          25.252799987800003
         ],
         "line": {
          "color": "red",
          "width": 1
         },
         "lon": [
          -0.461941,
          55.3643989563
         ],
         "mode": "lines",
         "opacity": 0.6,
         "showlegend": false,
         "type": "scattergeo",
         "uid": "4b7294c9-1309-4887-a0e0-15fecbb4b601",
         "visible": false
        }
       ],
       "_js2py_relayout": {},
       "_js2py_restyle": {},
       "_js2py_update": {},
       "_layout": {
        "geo": {
         "projection": {
          "type": "orthographic"
         },
         "showcountries": true,
         "showland": true,
         "showocean": true,
         "uirevision": true
        },
        "height": 1000,
        "template": {},
        "width": 1000
       },
       "_model_module_version": "0.8.0",
       "_py2js_addTraces": {},
       "_py2js_animate": {},
       "_py2js_deleteTraces": {},
       "_py2js_moveTraces": {},
       "_py2js_removeLayoutProps": {},
       "_py2js_removeTraceProps": {},
       "_py2js_restyle": {},
       "_py2js_update": {},
       "_view_count": 1,
       "_view_module_version": "0.8.0"
      }
     },
     "78672e0ca77541889d29cfa258a41f04": {
      "buffers": [
       {
        "data": "a5p3nKIjOsB37/+ffvtAwCroKTtMnT3Aklz+Q/qtNUD9//8/JfU4QLwHAIC3QDlAj8Ng/gp9REAB+n3/5kU5QOz7/19tJUNAAAAAwBn5QMBrKovCLtZCwP///99aYjvAqun//7QWM0AAAABgdGQ3QAEAAMBACkRAGy/dJAaRPEABAADgtSQ/QK7//5/y9gVAAAAAILlcK0Cjs8wiFE82QL7BFyZTZSpAfdCzWfU5IEAt7v9flYAYwAouVtRgmvU/v30dOGcELUAy5q4l5BM5QAAAAIALvEJA9///HxB/IcAAAACgGJQ+QIdOz7uxxkFAAAAAoKA4NUABAACgqTI/QAAAAEBywUBArK3YX3bHQkAAAADAOWNFQAAAAMD+ykBA17T/vzmjJUAAAABAi2RBQAbJ//8fMjpAAQMAQEDTK0DS//+fcJ0kQAAAAAA9CzBAeCy2SUUjDUAAAAAgqaM2QGMuAABNxDJA////H/KEHcD////fGz8UwFHt/9/5lkFAsb/snjy8SUDpEDgSaDxEQCDSb18HpkRAl5APejYLKMB1zeSbbc4SQCkMBOCj+EBAqz5XW7FvM0AI5gkA5VFEQAAAAGA7z0JAQA8AIFgJNUBaHwDAS8c5QA+Jeyx9qBhArzIAgBbpNsAzVwBARxIrwAAAAMBIoDfA",
        "encoding": "base64",
        "path": [
         "_data",
         0,
         "lat",
         "value"
        ]
       },
       {
        "data": "5dAi2/k+PEBI/v//CJoyQBT0lB2mHj9AGuHtQQiUQ0AAAABAcllHQKUAAKCkrktAVFInoInQPEB7EW3H1M1JQAvy/x8xKDtAAAAAAKrlYkDOjlTf+RpiQAAAAIC+I2NAXQIAoIs3UkAAAADgIlNcQAAAAKBwJV1AjgWFQZlGU0AAAAAghXNeQET//59wbVlAAAAA4M4vWUCrs1pgj3pcQKSMuAA0bVNAXoJTH0iUWEBeBQDg+6laQA9Iwr6d/1lAKUF/oUdBXkDEeTiB6U5eQAAAACDdnF9Awf7/H7DKXEAAAACgm/xZQDV9dsD1eGFA////36VzWkD/////gFVeQAAAAECNn19AtMh2vp+yX0AAAADgJLZhQP///59uTmBAW7z/X7qpWkAAAAAgBO5gQEXY/x9Y6V9AUq3/H9kmWUA/AQDgp/5eQAAAAGC8DFtAkncOZai4WEAAAABg53NcQNr9/z+bvVhAAAAAQF4yXEABAADAdONdQKL6/x8EHmBASZ7r+3CQ3b8cX3tmSYAMwHBa8KKvoABAPDHrxVBHU8AT8kHPZolSwDhX3p8cml3A2QbuQJ3EWMBexgOA2XFSwAAAAAAAmF7AEwEAYCK4VcBSrf8f2QZZwAK8BRIU21LAAwYAgOCURcApCABAFfxRwAAAAIAEVEfA",
        "encoding": "base64",
        "path": [
         "_data",
         0,
         "lon",
         "value"
        ]
       }
      ],
      "model_module": "plotlywidget",
      "model_module_version": "0.8.0",
      "model_name": "FigureModel",
      "state": {
       "_config": {
        "plotlyServerURL": "https://plot.ly"
       },
       "_data": [
        {
         "hovertext": [
          "JNB",
          "CPT",
          "DUR",
          "JED",
          "RUH",
          "DXB",
          "IST",
          "DOH",
          "ADB",
          "SYD",
          "MEL",
          "BNE",
          "BOM",
          "CAN",
          "PEK",
          "DEL",
          "PVG",
          "KUL",
          "BKK",
          "HKG",
          "BLR",
          "HKT",
          "CGK",
          "SIN",
          "MNL",
          "TPE",
          "ICN",
          "DPS",
          "CTU",
          "HND",
          "HAN",
          "SHA",
          "CJU",
          "GMP",
          "CTS",
          "FUK",
          "SGN",
          "ITM",
          "OKA",
          "DMK",
          "CEB",
          "DAD",
          "KNO",
          "SZX",
          "CNX",
          "SUB",
          "UPG",
          "PUS",
          "LHR",
          "MAD",
          "BCN",
          "LIM",
          "BOG",
          "LAX",
          "MEX",
          "JFK",
          "SFO",
          "CUN",
          "MTY",
          "MDE",
          "SDU",
          "CUZ",
          "CGH"
         ],
         "lat": {
          "dtype": "float64",
          "shape": [
           63
          ],
          "value": {}
         },
         "lon": {
          "dtype": "float64",
          "shape": [
           63
          ],
          "value": {}
         },
         "marker": {
          "color": "rgba(155, 0, 0, .6)"
         },
         "mode": "markers",
         "type": "scattergeo",
         "uid": "22b70265-8191-4f6b-b989-74e41f9bee76"
        },
        {
         "hoverinfo": "skip",
         "lat": [
          33.51129913330078,
          37.5583
         ],
         "line": {
          "color": "red",
          "width": 1
         },
         "lon": [
          126.49299621582031,
          126.791
         ],
         "mode": "lines",
         "opacity": 0.6,
         "showlegend": false,
         "type": "scattergeo",
         "uid": "d58b38e7-da6f-4d79-9c41-762d74d090f0",
         "visible": false
        },
        {
         "hoverinfo": "skip",
         "lat": [
          37.5583,
          33.51129913330078
         ],
         "line": {
          "color": "red",
          "width": 1
         },
         "lon": [
          126.791,
          126.49299621582031
         ],
         "mode": "lines",
         "opacity": 0.6,
         "showlegend": false,
         "type": "scattergeo",
         "uid": "a2d3e42b-118e-417f-8a13-b8cac3bf8121",
         "visible": false
        },
        {
         "hoverinfo": "skip",
         "lat": [
          42.77519989013672,
          35.552299
         ],
         "line": {
          "color": "red",
          "width": 1
         },
         "lon": [
          141.69200134277344,
          139.779999
         ],
         "mode": "lines",
         "opacity": 0.6,
         "showlegend": false,
         "type": "scattergeo",
         "uid": "7e7bb238-55a7-4a17-b633-7fc8583e07f3",
         "visible": false
        },
        {
         "hoverinfo": "skip",
         "lat": [
          35.552299,
          42.77519989013672
         ],
         "line": {
          "color": "red",
          "width": 1
         },
         "lon": [
          139.779999,
          141.69200134277344
         ],
         "mode": "lines",
         "opacity": 0.6,
         "showlegend": false,
         "type": "scattergeo",
         "uid": "dc522fc2-533f-4986-b02c-8a21c5ac2ce2",
         "visible": false
        },
        {
         "hoverinfo": "skip",
         "lat": [
          35.552299,
          33.585899353027344
         ],
         "line": {
          "color": "red",
          "width": 1
         },
         "lon": [
          139.779999,
          130.45100402832028
         ],
         "mode": "lines",
         "opacity": 0.6,
         "showlegend": false,
         "type": "scattergeo",
         "uid": "856779a4-5034-4797-bb3d-4ca6e70f888b",
         "visible": false
        },
        {
         "hoverinfo": "skip",
         "lat": [
          33.585899353027344,
          35.552299
         ],
         "line": {
          "color": "red",
          "width": 1
         },
         "lon": [
          130.45100402832028,
          139.779999
         ],
         "mode": "lines",
         "opacity": 0.6,
         "showlegend": false,
         "type": "scattergeo",
         "uid": "6d259307-eedd-4948-8d69-f1be45a3b4fa",
         "visible": false
        },
        {
         "hoverinfo": "skip",
         "lat": [
          -37.673302,
          -33.94609832763672
         ],
         "line": {
          "color": "red",
          "width": 1
         },
         "lon": [
          144.843002,
          151.177001953125
         ],
         "mode": "lines",
         "opacity": 0.6,
         "showlegend": false,
         "type": "scattergeo",
         "uid": "89b76f0a-4370-43c3-b335-8195308cfd7a",
         "visible": false
        },
        {
         "hoverinfo": "skip",
         "lat": [
          -33.94609832763672,
          -37.673302
         ],
         "line": {
          "color": "red",
          "width": 1
         },
         "lon": [
          151.177001953125,
          144.843002
         ],
         "mode": "lines",
         "opacity": 0.6,
         "showlegend": false,
         "type": "scattergeo",
         "uid": "8807decd-de55-4195-a2a0-1b22fe8e6682",
         "visible": false
        },
        {
         "hoverinfo": "skip",
         "lat": [
          21.221200942993164,
          10.8187999725
         ],
         "line": {
          "color": "red",
          "width": 1
         },
         "lon": [
          105.80699920654295,
          106.652000427
         ],
         "mode": "lines",
         "opacity": 0.6,
         "showlegend": false,
         "type": "scattergeo",
         "uid": "96340c70-0b69-4703-9077-eb0f308a07b7",
         "visible": false
        },
        {
         "hoverinfo": "skip",
         "lat": [
          10.8187999725,
          21.221200942993164
         ],
         "line": {
          "color": "red",
          "width": 1
         },
         "lon": [
          106.652000427,
          105.80699920654295
         ],
         "mode": "lines",
         "opacity": 0.6,
         "showlegend": false,
         "type": "scattergeo",
         "uid": "59106d6e-20dc-4d0f-a511-b58e114104e0",
         "visible": false
        },
        {
         "hoverinfo": "skip",
         "lat": [
          28.5665,
          19.088699340799998
         ],
         "line": {
          "color": "red",
          "width": 1
         },
         "lon": [
          77.103104,
          72.8678970337
         ],
         "mode": "lines",
         "opacity": 0.6,
         "showlegend": false,
         "type": "scattergeo",
         "uid": "d332e54f-cd72-4d14-8652-9f7fa7b1bf7b",
         "visible": false
        },
        {
         "hoverinfo": "skip",
         "lat": [
          19.088699340799998,
          28.5665
         ],
         "line": {
          "color": "red",
          "width": 1
         },
         "lon": [
          72.8678970337,
          77.103104
         ],
         "mode": "lines",
         "opacity": 0.6,
         "showlegend": false,
         "type": "scattergeo",
         "uid": "05bdcf95-a503-4fb2-86ea-e3cc34da14de",
         "visible": false
        },
        {
         "hoverinfo": "skip",
         "lat": [
          25.0777,
          22.308901000000002
         ],
         "line": {
          "color": "red",
          "width": 1
         },
         "lon": [
          121.233002,
          113.915001
         ],
         "mode": "lines",
         "opacity": 0.6,
         "showlegend": false,
         "type": "scattergeo",
         "uid": "7b086c95-cf2b-472b-b7d9-cc7311f06b44",
         "visible": false
        },
        {
         "hoverinfo": "skip",
         "lat": [
          22.308901000000002,
          25.0777
         ],
         "line": {
          "color": "red",
          "width": 1
         },
         "lon": [
          113.915001,
          121.233002
         ],
         "mode": "lines",
         "opacity": 0.6,
         "showlegend": false,
         "type": "scattergeo",
         "uid": "0a76daff-eb86-4dec-9fe0-d0e1125cd0cb",
         "visible": false
        },
        {
         "hoverinfo": "skip",
         "lat": [
          40.0801010131836,
          31.19790077209473
         ],
         "line": {
          "color": "red",
          "width": 1
         },
         "lon": [
          116.58499908447266,
          121.33599853515624
         ],
         "mode": "lines",
         "opacity": 0.6,
         "showlegend": false,
         "type": "scattergeo",
         "uid": "c0b981eb-8b99-4489-927c-3fe6fa04d2a3",
         "visible": false
        },
        {
         "hoverinfo": "skip",
         "lat": [
          31.19790077209473,
          40.0801010131836
         ],
         "line": {
          "color": "red",
          "width": 1
         },
         "lon": [
          121.33599853515624,
          116.58499908447266
         ],
         "mode": "lines",
         "opacity": 0.6,
         "showlegend": false,
         "type": "scattergeo",
         "uid": "68a4a749-edf4-47ba-b211-c161105a6db4",
         "visible": false
        },
        {
         "hoverinfo": "skip",
         "lat": [
          26.1958007812,
          35.552299
         ],
         "line": {
          "color": "red",
          "width": 1
         },
         "lon": [
          127.64600372299999,
          139.779999
         ],
         "mode": "lines",
         "opacity": 0.6,
         "showlegend": false,
         "type": "scattergeo",
         "uid": "08acbc77-c228-4f7e-8bf2-2ec64abdf1d9",
         "visible": false
        },
        {
         "hoverinfo": "skip",
         "lat": [
          35.552299,
          26.1958007812
         ],
         "line": {
          "color": "red",
          "width": 1
         },
         "lon": [
          139.779999,
          127.64600372299999
         ],
         "mode": "lines",
         "opacity": 0.6,
         "showlegend": false,
         "type": "scattergeo",
         "uid": "ee1f4721-a09b-48bb-9d5a-a98d59200381",
         "visible": false
        },
        {
         "hoverinfo": "skip",
         "lat": [
          35.552299,
          34.785499572753906
         ],
         "line": {
          "color": "red",
          "width": 1
         },
         "lon": [
          139.779999,
          135.43800354003906
         ],
         "mode": "lines",
         "opacity": 0.6,
         "showlegend": false,
         "type": "scattergeo",
         "uid": "309e9bcd-bfa2-4fbe-9ab2-6d179c282437",
         "visible": false
        },
        {
         "hoverinfo": "skip",
         "lat": [
          34.785499572753906,
          35.552299
         ],
         "line": {
          "color": "red",
          "width": 1
         },
         "lon": [
          135.43800354003906,
          139.779999
         ],
         "mode": "lines",
         "opacity": 0.6,
         "showlegend": false,
         "type": "scattergeo",
         "uid": "0c2e17db-2672-4e29-8c83-ac13c1550d4b",
         "visible": false
        },
        {
         "hoverinfo": "skip",
         "lat": [
          -7.379829883575439,
          -6.1255698204
         ],
         "line": {
          "color": "red",
          "width": 1
         },
         "lon": [
          112.78700256347656,
          106.65599823
         ],
         "mode": "lines",
         "opacity": 0.6,
         "showlegend": false,
         "type": "scattergeo",
         "uid": "3af0082b-6f90-4c84-8aea-c6adde3cd7ce",
         "visible": false
        },
        {
         "hoverinfo": "skip",
         "lat": [
          -6.1255698204,
          -7.379829883575439
         ],
         "line": {
          "color": "red",
          "width": 1
         },
         "lon": [
          106.65599823,
          112.78700256347656
         ],
         "mode": "lines",
         "opacity": 0.6,
         "showlegend": false,
         "type": "scattergeo",
         "uid": "a6f2f75e-41ba-4132-9292-84b0d6016a5c",
         "visible": false
        },
        {
         "hoverinfo": "skip",
         "lat": [
          24.957599639892567,
          21.6796
         ],
         "line": {
          "color": "red",
          "width": 1
         },
         "lon": [
          46.69879913330078,
          39.156502
         ],
         "mode": "lines",
         "opacity": 0.6,
         "showlegend": false,
         "type": "scattergeo",
         "uid": "686891b8-9325-4755-aa1a-4223bd816804",
         "visible": false
        },
        {
         "hoverinfo": "skip",
         "lat": [
          21.6796,
          24.957599639892567
         ],
         "line": {
          "color": "red",
          "width": 1
         },
         "lon": [
          39.156502,
          46.69879913330078
         ],
         "mode": "lines",
         "opacity": 0.6,
         "showlegend": false,
         "type": "scattergeo",
         "uid": "805db7ae-bb23-4a0a-ac65-7cb0bb5aab22",
         "visible": false
        },
        {
         "hoverinfo": "skip",
         "lat": [
          -23.626110076904297,
          -22.910499572800003
         ],
         "line": {
          "color": "red",
          "width": 1
         },
         "lon": [
          -46.65638732910156,
          -43.1631011963
         ],
         "mode": "lines",
         "opacity": 0.6,
         "showlegend": false,
         "type": "scattergeo",
         "uid": "73fbb062-1c62-4d97-b426-117cfa993bee",
         "visible": false
        },
        {
         "hoverinfo": "skip",
         "lat": [
          -22.910499572800003,
          -23.626110076904297
         ],
         "line": {
          "color": "red",
          "width": 1
         },
         "lon": [
          -43.1631011963,
          -46.65638732910156
         ],
         "mode": "lines",
         "opacity": 0.6,
         "showlegend": false,
         "type": "scattergeo",
         "uid": "4e6166b6-2d7d-4511-b253-99e0adc93a07",
         "visible": false
        },
        {
         "hoverinfo": "skip",
         "lat": [
          -26.1392,
          -33.9648017883
         ],
         "line": {
          "color": "red",
          "width": 1
         },
         "lon": [
          28.246,
          18.6016998291
         ],
         "mode": "lines",
         "opacity": 0.6,
         "showlegend": false,
         "type": "scattergeo",
         "uid": "b17c4447-f8f5-4887-be02-8d1281262607",
         "visible": false
        },
        {
         "hoverinfo": "skip",
         "lat": [
          -33.9648017883,
          -26.1392
         ],
         "line": {
          "color": "red",
          "width": 1
         },
         "lon": [
          18.6016998291,
          28.246
         ],
         "mode": "lines",
         "opacity": 0.6,
         "showlegend": false,
         "type": "scattergeo",
         "uid": "8d337f9d-6db4-4def-939c-651ccf2326b4",
         "visible": false
        },
        {
         "hoverinfo": "skip",
         "lat": [
          -5.061629772186278,
          -6.1255698204
         ],
         "line": {
          "color": "red",
          "width": 1
         },
         "lon": [
          119.5540008544922,
          106.65599823
         ],
         "mode": "lines",
         "opacity": 0.6,
         "showlegend": false,
         "type": "scattergeo",
         "uid": "ff0ca868-6667-4b73-a4f7-ed75461d2330",
         "visible": false
        },
        {
         "hoverinfo": "skip",
         "lat": [
          -6.1255698204,
          1.35019
         ],
         "line": {
          "color": "red",
          "width": 1
         },
         "lon": [
          106.65599823,
          103.994003
         ],
         "mode": "lines",
         "opacity": 0.6,
         "showlegend": false,
         "type": "scattergeo",
         "uid": "b82f0e2b-032b-4fdc-a8b2-ec23196635b8",
         "visible": false
        },
        {
         "hoverinfo": "skip",
         "lat": [
          30.578500747680664,
          40.0801010131836
         ],
         "line": {
          "color": "red",
          "width": 1
         },
         "lon": [
          103.9469985961914,
          116.58499908447266
         ],
         "mode": "lines",
         "opacity": 0.6,
         "showlegend": false,
         "type": "scattergeo",
         "uid": "b2549c7a-10e7-42ee-b8e1-12ad6bf0eea8",
         "visible": false
        },
        {
         "hoverinfo": "skip",
         "lat": [
          40.0801010131836,
          30.578500747680664
         ],
         "line": {
          "color": "red",
          "width": 1
         },
         "lon": [
          116.58499908447266,
          103.9469985961914
         ],
         "mode": "lines",
         "opacity": 0.6,
         "showlegend": false,
         "type": "scattergeo",
         "uid": "fa7cf545-59d5-457e-a4ed-46ab1c232f11",
         "visible": false
        },
        {
         "hoverinfo": "skip",
         "lat": [
          -33.94609832763672,
          -27.38419914245605
         ],
         "line": {
          "color": "red",
          "width": 1
         },
         "lon": [
          151.177001953125,
          153.11700439453125
         ],
         "mode": "lines",
         "opacity": 0.6,
         "showlegend": false,
         "type": "scattergeo",
         "uid": "94362a9c-3990-4346-86f7-96b2df0b708b",
         "visible": false
        },
        {
         "hoverinfo": "skip",
         "lat": [
          1.35019,
          -6.1255698204
         ],
         "line": {
          "color": "red",
          "width": 1
         },
         "lon": [
          103.994003,
          106.65599823
         ],
         "mode": "lines",
         "opacity": 0.6,
         "showlegend": false,
         "type": "scattergeo",
         "uid": "cf16a809-0916-4e38-9845-2df91637dfc8",
         "visible": false
        },
        {
         "hoverinfo": "skip",
         "lat": [
          -27.38419914245605,
          -33.94609832763672
         ],
         "line": {
          "color": "red",
          "width": 1
         },
         "lon": [
          153.11700439453125,
          151.177001953125
         ],
         "mode": "lines",
         "opacity": 0.6,
         "showlegend": false,
         "type": "scattergeo",
         "uid": "c906230e-0031-4cb4-95cf-a49d266698c4",
         "visible": false
        },
        {
         "hoverinfo": "skip",
         "lat": [
          23.39240074157715,
          40.0801010131836
         ],
         "line": {
          "color": "red",
          "width": 1
         },
         "lon": [
          113.29900360107422,
          116.58499908447266
         ],
         "mode": "lines",
         "opacity": 0.6,
         "showlegend": false,
         "type": "scattergeo",
         "uid": "6b597113-2194-4bec-919b-d77c17c1b7d4",
         "visible": false
        },
        {
         "hoverinfo": "skip",
         "lat": [
          40.0801010131836,
          23.39240074157715
         ],
         "line": {
          "color": "red",
          "width": 1
         },
         "lon": [
          116.58499908447266,
          113.29900360107422
         ],
         "mode": "lines",
         "opacity": 0.6,
         "showlegend": false,
         "type": "scattergeo",
         "uid": "c794fa20-0699-4e8b-bb0b-debb879aa2db",
         "visible": false
        },
        {
         "hoverinfo": "skip",
         "lat": [
          1.35019,
          2.7455799579619997
         ],
         "line": {
          "color": "red",
          "width": 1
         },
         "lon": [
          103.994003,
          101.70999908446998
         ],
         "mode": "lines",
         "opacity": 0.6,
         "showlegend": false,
         "type": "scattergeo",
         "uid": "e25c2cbb-73f8-41b0-90d2-32d238ee8a53",
         "visible": false
        },
        {
         "hoverinfo": "skip",
         "lat": [
          2.7455799579619997,
          1.35019
         ],
         "line": {
          "color": "red",
          "width": 1
         },
         "lon": [
          101.70999908446998,
          103.994003
         ],
         "mode": "lines",
         "opacity": 0.6,
         "showlegend": false,
         "type": "scattergeo",
         "uid": "3e3e4c93-78e0-48ff-8f4d-b98f403e9c81",
         "visible": false
        },
        {
         "hoverinfo": "skip",
         "lat": [
          -6.1255698204,
          -8.7481698989868
         ],
         "line": {
          "color": "red",
          "width": 1
         },
         "lon": [
          106.65599823,
          115.16699981689
         ],
         "mode": "lines",
         "opacity": 0.6,
         "showlegend": false,
         "type": "scattergeo",
         "uid": "971762c2-d818-43b7-9370-3db6d9b08b9f",
         "visible": false
        },
        {
         "hoverinfo": "skip",
         "lat": [
          37.61899948120117,
          33.94250107
         ],
         "line": {
          "color": "red",
          "width": 1
         },
         "lon": [
          -122.375,
          -118.40799709999999
         ],
         "mode": "lines",
         "opacity": 0.6,
         "showlegend": false,
         "type": "scattergeo",
         "uid": "c7c3ba2a-1310-44fc-a14b-db0aeb25d932",
         "visible": false
        },
        {
         "hoverinfo": "skip",
         "lat": [
          33.94250107,
          37.61899948120117
         ],
         "line": {
          "color": "red",
          "width": 1
         },
         "lon": [
          -118.40799709999999,
          -122.375
         ],
         "mode": "lines",
         "opacity": 0.6,
         "showlegend": false,
         "type": "scattergeo",
         "uid": "61002fb8-b6e5-4d1a-8580-fec05f69970f",
         "visible": false
        },
        {
         "hoverinfo": "skip",
         "lat": [
          -8.7481698989868,
          -6.1255698204
         ],
         "line": {
          "color": "red",
          "width": 1
         },
         "lon": [
          115.16699981689,
          106.65599823
         ],
         "mode": "lines",
         "opacity": 0.6,
         "showlegend": false,
         "type": "scattergeo",
         "uid": "50d645b9-7bfb-492e-ae87-005c879c2466",
         "visible": false
        },
        {
         "hoverinfo": "skip",
         "lat": [
          22.308901000000002,
          13.681099891662598
         ],
         "line": {
          "color": "red",
          "width": 1
         },
         "lon": [
          113.915001,
          100.74700164794922
         ],
         "mode": "lines",
         "opacity": 0.6,
         "showlegend": false,
         "type": "scattergeo",
         "uid": "6eb7db12-1cf5-41ed-85cd-7342548ed00d",
         "visible": false
        },
        {
         "hoverinfo": "skip",
         "lat": [
          13.681099891662598,
          22.308901000000002
         ],
         "line": {
          "color": "red",
          "width": 1
         },
         "lon": [
          100.74700164794922,
          113.915001
         ],
         "mode": "lines",
         "opacity": 0.6,
         "showlegend": false,
         "type": "scattergeo",
         "uid": "b5be1296-7f6a-46a3-afff-60616413f98f",
         "visible": false
        },
        {
         "hoverinfo": "skip",
         "lat": [
          23.39240074157715,
          31.19790077209473
         ],
         "line": {
          "color": "red",
          "width": 1
         },
         "lon": [
          113.29900360107422,
          121.33599853515624
         ],
         "mode": "lines",
         "opacity": 0.6,
         "showlegend": false,
         "type": "scattergeo",
         "uid": "ea587afe-3d55-491d-b5f3-b6ab663566d8",
         "visible": false
        },
        {
         "hoverinfo": "skip",
         "lat": [
          31.19790077209473,
          23.39240074157715
         ],
         "line": {
          "color": "red",
          "width": 1
         },
         "lon": [
          121.33599853515624,
          113.29900360107422
         ],
         "mode": "lines",
         "opacity": 0.6,
         "showlegend": false,
         "type": "scattergeo",
         "uid": "571b37e2-5351-4267-b216-bbb4da3d0add",
         "visible": false
        },
        {
         "hoverinfo": "skip",
         "lat": [
          13.1979,
          28.5665
         ],
         "line": {
          "color": "red",
          "width": 1
         },
         "lon": [
          77.706299,
          77.103104
         ],
         "mode": "lines",
         "opacity": 0.6,
         "showlegend": false,
         "type": "scattergeo",
         "uid": "7715c1b7-4723-4e31-a4b0-90aa352ae8d8",
         "visible": false
        },
        {
         "hoverinfo": "skip",
         "lat": [
          -6.1255698204,
          -5.061629772186278
         ],
         "line": {
          "color": "red",
          "width": 1
         },
         "lon": [
          106.65599823,
          119.5540008544922
         ],
         "mode": "lines",
         "opacity": 0.6,
         "showlegend": false,
         "type": "scattergeo",
         "uid": "a000a626-aca3-42c2-b025-ba7b20808a95",
         "visible": false
        },
        {
         "hoverinfo": "skip",
         "lat": [
          28.5665,
          13.1979
         ],
         "line": {
          "color": "red",
          "width": 1
         },
         "lon": [
          77.103104,
          77.706299
         ],
         "mode": "lines",
         "opacity": 0.6,
         "showlegend": false,
         "type": "scattergeo",
         "uid": "0692f0fa-3255-4d36-93ea-917ac9eca46d",
         "visible": false
        },
        {
         "hoverinfo": "skip",
         "lat": [
          25.252799987800003,
          25.273056
         ],
         "line": {
          "color": "red",
          "width": 1
         },
         "lon": [
          55.3643989563,
          51.608056
         ],
         "mode": "lines",
         "opacity": 0.6,
         "showlegend": false,
         "type": "scattergeo",
         "uid": "73839000-e75a-4b73-b3c1-532ab463130b",
         "visible": false
        },
        {
         "hoverinfo": "skip",
         "lat": [
          25.273056,
          25.252799987800003
         ],
         "line": {
          "color": "red",
          "width": 1
         },
         "lon": [
          51.608056,
          55.3643989563
         ],
         "mode": "lines",
         "opacity": 0.6,
         "showlegend": false,
         "type": "scattergeo",
         "uid": "4fd942ee-35e3-424f-ba79-ac6e3650729a",
         "visible": false
        },
        {
         "hoverinfo": "skip",
         "lat": [
          22.308901000000002,
          31.143400192260746
         ],
         "line": {
          "color": "red",
          "width": 1
         },
         "lon": [
          113.915001,
          121.80500030517578
         ],
         "mode": "lines",
         "opacity": 0.6,
         "showlegend": false,
         "type": "scattergeo",
         "uid": "7ae5f27d-72c1-4c91-b0e7-5f93cdb2dd8a",
         "visible": false
        },
        {
         "hoverinfo": "skip",
         "lat": [
          31.143400192260746,
          22.308901000000002
         ],
         "line": {
          "color": "red",
          "width": 1
         },
         "lon": [
          121.80500030517578,
          113.915001
         ],
         "mode": "lines",
         "opacity": 0.6,
         "showlegend": false,
         "type": "scattergeo",
         "uid": "8ccf28a5-d5da-4476-816d-971397503294",
         "visible": false
        },
        {
         "hoverinfo": "skip",
         "lat": [
          19.4363,
          21.036500930800003
         ],
         "line": {
          "color": "red",
          "width": 1
         },
         "lon": [
          -99.072098,
          -86.8770980835
         ],
         "mode": "lines",
         "opacity": 0.6,
         "showlegend": false,
         "type": "scattergeo",
         "uid": "e56ac42b-a420-4764-b84e-90523aa750cb",
         "visible": false
        },
        {
         "hoverinfo": "skip",
         "lat": [
          21.036500930800003,
          19.4363
         ],
         "line": {
          "color": "red",
          "width": 1
         },
         "lon": [
          -86.8770980835,
          -99.072098
         ],
         "mode": "lines",
         "opacity": 0.6,
         "showlegend": false,
         "type": "scattergeo",
         "uid": "a285b2b1-ee5e-4c87-a64e-569e8e26ded5",
         "visible": false
        },
        {
         "hoverinfo": "skip",
         "lat": [
          22.639299392700195,
          40.0801010131836
         ],
         "line": {
          "color": "red",
          "width": 1
         },
         "lon": [
          113.81099700927734,
          116.58499908447266
         ],
         "mode": "lines",
         "opacity": 0.6,
         "showlegend": false,
         "type": "scattergeo",
         "uid": "9f783fe5-7506-4019-a177-a60697e154c9",
         "visible": false
        },
        {
         "hoverinfo": "skip",
         "lat": [
          40.0801010131836,
          22.639299392700195
         ],
         "line": {
          "color": "red",
          "width": 1
         },
         "lon": [
          116.58499908447266,
          113.81099700927734
         ],
         "mode": "lines",
         "opacity": 0.6,
         "showlegend": false,
         "type": "scattergeo",
         "uid": "d2290879-77d5-4b71-9c01-8ea13ca1a08d",
         "visible": false
        },
        {
         "hoverinfo": "skip",
         "lat": [
          31.19790077209473,
          22.639299392700195
         ],
         "line": {
          "color": "red",
          "width": 1
         },
         "lon": [
          121.33599853515624,
          113.81099700927734
         ],
         "mode": "lines",
         "opacity": 0.6,
         "showlegend": false,
         "type": "scattergeo",
         "uid": "ca1b348e-d10c-49ab-be66-8eba6c3b7c36",
         "visible": false
        },
        {
         "hoverinfo": "skip",
         "lat": [
          22.639299392700195,
          31.19790077209473
         ],
         "line": {
          "color": "red",
          "width": 1
         },
         "lon": [
          113.81099700927734,
          121.33599853515624
         ],
         "mode": "lines",
         "opacity": 0.6,
         "showlegend": false,
         "type": "scattergeo",
         "uid": "b678217b-e19b-409f-ae87-b91f81a0586a",
         "visible": false
        },
        {
         "hoverinfo": "skip",
         "lat": [
          4.70159,
          6.1645400000000015
         ],
         "line": {
          "color": "red",
          "width": 1
         },
         "lon": [
          -74.1469,
          -75.4231
         ],
         "mode": "lines",
         "opacity": 0.6,
         "showlegend": false,
         "type": "scattergeo",
         "uid": "1f3e3e5d-c0d5-4de0-8d54-505b5c28fb4f",
         "visible": false
        },
        {
         "hoverinfo": "skip",
         "lat": [
          14.5086,
          10.307499885559
         ],
         "line": {
          "color": "red",
          "width": 1
         },
         "lon": [
          121.019997,
          123.97899627686
         ],
         "mode": "lines",
         "opacity": 0.6,
         "showlegend": false,
         "type": "scattergeo",
         "uid": "1eacc533-a5f2-4518-a541-01f04d1f37f6",
         "visible": false
        },
        {
         "hoverinfo": "skip",
         "lat": [
          10.307499885559,
          14.5086
         ],
         "line": {
          "color": "red",
          "width": 1
         },
         "lon": [
          123.97899627686,
          121.019997
         ],
         "mode": "lines",
         "opacity": 0.6,
         "showlegend": false,
         "type": "scattergeo",
         "uid": "6f4e347a-c8bf-4ef7-9e9c-2d5864196667",
         "visible": false
        },
        {
         "hoverinfo": "skip",
         "lat": [
          -37.673302,
          -27.38419914245605
         ],
         "line": {
          "color": "red",
          "width": 1
         },
         "lon": [
          144.843002,
          153.11700439453125
         ],
         "mode": "lines",
         "opacity": 0.6,
         "showlegend": false,
         "type": "scattergeo",
         "uid": "f1bdeb6e-09f5-459a-97db-7720838ddb59",
         "visible": false
        },
        {
         "hoverinfo": "skip",
         "lat": [
          6.1645400000000015,
          4.70159
         ],
         "line": {
          "color": "red",
          "width": 1
         },
         "lon": [
          -75.4231,
          -74.1469
         ],
         "mode": "lines",
         "opacity": 0.6,
         "showlegend": false,
         "type": "scattergeo",
         "uid": "168e1e74-7a61-43e2-ae3b-9dd86dc8a06c",
         "visible": false
        },
        {
         "hoverinfo": "skip",
         "lat": [
          13.912599563599999,
          18.7667999268
         ],
         "line": {
          "color": "red",
          "width": 1
         },
         "lon": [
          100.607002258,
          98.962600708
         ],
         "mode": "lines",
         "opacity": 0.6,
         "showlegend": false,
         "type": "scattergeo",
         "uid": "9e5e516d-acf7-4236-a4d1-40aeb96d0491",
         "visible": false
        },
        {
         "hoverinfo": "skip",
         "lat": [
          18.7667999268,
          13.912599563599999
         ],
         "line": {
          "color": "red",
          "width": 1
         },
         "lon": [
          98.962600708,
          100.607002258
         ],
         "mode": "lines",
         "opacity": 0.6,
         "showlegend": false,
         "type": "scattergeo",
         "uid": "2cabd2ed-f0b2-4b8f-b2cf-8270f05e03bd",
         "visible": false
        },
        {
         "hoverinfo": "skip",
         "lat": [
          1.35019,
          22.308901000000002
         ],
         "line": {
          "color": "red",
          "width": 1
         },
         "lon": [
          103.994003,
          113.915001
         ],
         "mode": "lines",
         "opacity": 0.6,
         "showlegend": false,
         "type": "scattergeo",
         "uid": "652f052f-5938-4fb0-a172-39864bf2977f",
         "visible": false
        },
        {
         "hoverinfo": "skip",
         "lat": [
          22.308901000000002,
          1.35019
         ],
         "line": {
          "color": "red",
          "width": 1
         },
         "lon": [
          113.915001,
          103.994003
         ],
         "mode": "lines",
         "opacity": 0.6,
         "showlegend": false,
         "type": "scattergeo",
         "uid": "4899bb8b-1098-413c-887e-434741b09480",
         "visible": false
        },
        {
         "hoverinfo": "skip",
         "lat": [
          -27.38419914245605,
          -37.673302
         ],
         "line": {
          "color": "red",
          "width": 1
         },
         "lon": [
          153.11700439453125,
          144.843002
         ],
         "mode": "lines",
         "opacity": 0.6,
         "showlegend": false,
         "type": "scattergeo",
         "uid": "47c10e19-5b51-4e32-a7dc-4472530de521",
         "visible": false
        },
        {
         "hoverinfo": "skip",
         "lat": [
          37.46910095214844,
          22.308901000000002
         ],
         "line": {
          "color": "red",
          "width": 1
         },
         "lon": [
          126.45099639892578,
          113.915001
         ],
         "mode": "lines",
         "opacity": 0.6,
         "showlegend": false,
         "type": "scattergeo",
         "uid": "ed4c5c4a-746e-43db-bf07-5d7f1fe4021e",
         "visible": false
        },
        {
         "hoverinfo": "skip",
         "lat": [
          22.308901000000002,
          37.46910095214844
         ],
         "line": {
          "color": "red",
          "width": 1
         },
         "lon": [
          113.915001,
          126.45099639892578
         ],
         "mode": "lines",
         "opacity": 0.6,
         "showlegend": false,
         "type": "scattergeo",
         "uid": "d39c857b-0cc1-485c-bbd1-1384c05845f2",
         "visible": false
        },
        {
         "hoverinfo": "skip",
         "lat": [
          19.4363,
          25.7784996033
         ],
         "line": {
          "color": "red",
          "width": 1
         },
         "lon": [
          -99.072098,
          -100.107002258
         ],
         "mode": "lines",
         "opacity": 0.6,
         "showlegend": false,
         "type": "scattergeo",
         "uid": "30231389-8b0c-46df-97bf-f8b84e139d25",
         "visible": false
        },
        {
         "hoverinfo": "skip",
         "lat": [
          25.7784996033,
          19.4363
         ],
         "line": {
          "color": "red",
          "width": 1
         },
         "lon": [
          -100.107002258,
          -99.072098
         ],
         "mode": "lines",
         "opacity": 0.6,
         "showlegend": false,
         "type": "scattergeo",
         "uid": "4277e9c8-8564-46bd-bbca-b1d3aabaee83",
         "visible": false
        },
        {
         "hoverinfo": "skip",
         "lat": [
          8.1132,
          13.912599563599999
         ],
         "line": {
          "color": "red",
          "width": 1
         },
         "lon": [
          98.316902,
          100.607002258
         ],
         "mode": "lines",
         "opacity": 0.6,
         "showlegend": false,
         "type": "scattergeo",
         "uid": "7c840bc3-89fe-40cd-9309-77525071732a",
         "visible": false
        },
        {
         "hoverinfo": "skip",
         "lat": [
          13.912599563599999,
          8.1132
         ],
         "line": {
          "color": "red",
          "width": 1
         },
         "lon": [
          100.607002258,
          98.316902
         ],
         "mode": "lines",
         "opacity": 0.6,
         "showlegend": false,
         "type": "scattergeo",
         "uid": "cb913983-511c-4b2f-b072-f422dd41cdc8",
         "visible": false
        },
        {
         "hoverinfo": "skip",
         "lat": [
          16.043899536132812,
          10.8187999725
         ],
         "line": {
          "color": "red",
          "width": 1
         },
         "lon": [
          108.1989974975586,
          106.652000427
         ],
         "mode": "lines",
         "opacity": 0.6,
         "showlegend": false,
         "type": "scattergeo",
         "uid": "a0497ce4-7938-40ad-b6fd-fc592c9d47d9",
         "visible": false
        },
        {
         "hoverinfo": "skip",
         "lat": [
          -12.0219,
          -13.535699844400005
         ],
         "line": {
          "color": "red",
          "width": 1
         },
         "lon": [
          -77.114305,
          -71.9387969971
         ],
         "mode": "lines",
         "opacity": 0.6,
         "showlegend": false,
         "type": "scattergeo",
         "uid": "086f9cff-b837-4426-ab2f-0c98378b30ce",
         "visible": false
        },
        {
         "hoverinfo": "skip",
         "lat": [
          41.2971,
          40.471926
         ],
         "line": {
          "color": "red",
          "width": 1
         },
         "lon": [
          2.0784599999999998,
          -3.56264
         ],
         "mode": "lines",
         "opacity": 0.6,
         "showlegend": false,
         "type": "scattergeo",
         "uid": "8aaae542-480f-4da5-b1c0-fbff60f97ff0",
         "visible": false
        },
        {
         "hoverinfo": "skip",
         "lat": [
          19.088699340799998,
          13.1979
         ],
         "line": {
          "color": "red",
          "width": 1
         },
         "lon": [
          72.8678970337,
          77.706299
         ],
         "mode": "lines",
         "opacity": 0.6,
         "showlegend": false,
         "type": "scattergeo",
         "uid": "10e493c7-85c4-4209-93b2-ff5e3bedfbf3",
         "visible": false
        },
        {
         "hoverinfo": "skip",
         "lat": [
          10.8187999725,
          16.043899536132812
         ],
         "line": {
          "color": "red",
          "width": 1
         },
         "lon": [
          106.652000427,
          108.1989974975586
         ],
         "mode": "lines",
         "opacity": 0.6,
         "showlegend": false,
         "type": "scattergeo",
         "uid": "222efe43-05ba-4e04-bc4a-72c55a045343",
         "visible": false
        },
        {
         "hoverinfo": "skip",
         "lat": [
          13.1979,
          19.088699340799998
         ],
         "line": {
          "color": "red",
          "width": 1
         },
         "lon": [
          77.706299,
          72.8678970337
         ],
         "mode": "lines",
         "opacity": 0.6,
         "showlegend": false,
         "type": "scattergeo",
         "uid": "b38e0a06-73d6-4feb-b2cf-0e6f9e351411",
         "visible": false
        },
        {
         "hoverinfo": "skip",
         "lat": [
          -13.535699844400005,
          -12.0219
         ],
         "line": {
          "color": "red",
          "width": 1
         },
         "lon": [
          -71.9387969971,
          -77.114305
         ],
         "mode": "lines",
         "opacity": 0.6,
         "showlegend": false,
         "type": "scattergeo",
         "uid": "eb264601-2ba0-41c4-926e-fd5ec805e8b4",
         "visible": false
        },
        {
         "hoverinfo": "skip",
         "lat": [
          3.6422220000000003,
          -6.1255698204
         ],
         "line": {
          "color": "red",
          "width": 1
         },
         "lon": [
          98.885278,
          106.65599823
         ],
         "mode": "lines",
         "opacity": 0.6,
         "showlegend": false,
         "type": "scattergeo",
         "uid": "fafe1d46-0d1e-494e-9002-da45e95c88ec",
         "visible": false
        },
        {
         "hoverinfo": "skip",
         "lat": [
          33.94250107,
          40.63980103
         ],
         "line": {
          "color": "red",
          "width": 1
         },
         "lon": [
          -118.40799709999999,
          -73.77890015
         ],
         "mode": "lines",
         "opacity": 0.6,
         "showlegend": false,
         "type": "scattergeo",
         "uid": "6df5dcfd-8ff4-4eb7-96d3-eaf88a540f45",
         "visible": false
        },
        {
         "hoverinfo": "skip",
         "lat": [
          40.63980103,
          33.94250107
         ],
         "line": {
          "color": "red",
          "width": 1
         },
         "lon": [
          -73.77890015,
          -118.40799709999999
         ],
         "mode": "lines",
         "opacity": 0.6,
         "showlegend": false,
         "type": "scattergeo",
         "uid": "d24592f2-77d5-4088-87b1-7892b04ae20f",
         "visible": false
        },
        {
         "hoverinfo": "skip",
         "lat": [
          33.51129913330078,
          35.1795005798
         ],
         "line": {
          "color": "red",
          "width": 1
         },
         "lon": [
          126.49299621582031,
          128.93800354
         ],
         "mode": "lines",
         "opacity": 0.6,
         "showlegend": false,
         "type": "scattergeo",
         "uid": "6b9681ad-807a-4279-b2eb-bbf5a247361a",
         "visible": false
        },
        {
         "hoverinfo": "skip",
         "lat": [
          40.471926,
          41.2971
         ],
         "line": {
          "color": "red",
          "width": 1
         },
         "lon": [
          -3.56264,
          2.0784599999999998
         ],
         "mode": "lines",
         "opacity": 0.6,
         "showlegend": false,
         "type": "scattergeo",
         "uid": "4c475086-747d-42a5-994c-b28a12737154",
         "visible": false
        },
        {
         "hoverinfo": "skip",
         "lat": [
          -6.1255698204,
          3.6422220000000003
         ],
         "line": {
          "color": "red",
          "width": 1
         },
         "lon": [
          106.65599823,
          98.885278
         ],
         "mode": "lines",
         "opacity": 0.6,
         "showlegend": false,
         "type": "scattergeo",
         "uid": "e3937309-f491-44b4-9df8-99376f674352",
         "visible": false
        },
        {
         "hoverinfo": "skip",
         "lat": [
          40.63980103,
          51.4706
         ],
         "line": {
          "color": "red",
          "width": 1
         },
         "lon": [
          -73.77890015,
          -0.461941
         ],
         "mode": "lines",
         "opacity": 0.6,
         "showlegend": false,
         "type": "scattergeo",
         "uid": "4cc403a9-356f-4efe-a0ee-19e8cea60c8d",
         "visible": false
        },
        {
         "hoverinfo": "skip",
         "lat": [
          51.4706,
          40.63980103
         ],
         "line": {
          "color": "red",
          "width": 1
         },
         "lon": [
          -0.461941,
          -73.77890015
         ],
         "mode": "lines",
         "opacity": 0.6,
         "showlegend": false,
         "type": "scattergeo",
         "uid": "904553c8-d06b-4138-a680-d1041326e367",
         "visible": false
        },
        {
         "hoverinfo": "skip",
         "lat": [
          35.1795005798,
          33.51129913330078
         ],
         "line": {
          "color": "red",
          "width": 1
         },
         "lon": [
          128.93800354,
          126.49299621582031
         ],
         "mode": "lines",
         "opacity": 0.6,
         "showlegend": false,
         "type": "scattergeo",
         "uid": "929d2f83-a6fc-47ff-8409-5ff4d307e9ef",
         "visible": false
        },
        {
         "hoverinfo": "skip",
         "lat": [
          8.1132,
          13.681099891662598
         ],
         "line": {
          "color": "red",
          "width": 1
         },
         "lon": [
          98.316902,
          100.74700164794922
         ],
         "mode": "lines",
         "opacity": 0.6,
         "showlegend": false,
         "type": "scattergeo",
         "uid": "5ce95af7-e2a7-45b6-929e-35f70f4bd7a7",
         "visible": false
        },
        {
         "hoverinfo": "skip",
         "lat": [
          38.292400360100004,
          40.976898
         ],
         "line": {
          "color": "red",
          "width": 1
         },
         "lon": [
          27.156999588,
          28.8146
         ],
         "mode": "lines",
         "opacity": 0.6,
         "showlegend": false,
         "type": "scattergeo",
         "uid": "a1c576b8-695d-4c60-be47-0da3aa9f8ca1",
         "visible": false
        },
        {
         "hoverinfo": "skip",
         "lat": [
          -26.1392,
          -29.6144444444
         ],
         "line": {
          "color": "red",
          "width": 1
         },
         "lon": [
          28.246,
          31.119722222199997
         ],
         "mode": "lines",
         "opacity": 0.6,
         "showlegend": false,
         "type": "scattergeo",
         "uid": "bf2f4e53-d19e-4609-89d8-1e988d92ed20",
         "visible": false
        },
        {
         "hoverinfo": "skip",
         "lat": [
          40.976898,
          38.292400360100004
         ],
         "line": {
          "color": "red",
          "width": 1
         },
         "lon": [
          28.8146,
          27.156999588
         ],
         "mode": "lines",
         "opacity": 0.6,
         "showlegend": false,
         "type": "scattergeo",
         "uid": "da5b12a2-2954-41f3-8b7d-177d61566b4d",
         "visible": false
        },
        {
         "hoverinfo": "skip",
         "lat": [
          -29.6144444444,
          -26.1392
         ],
         "line": {
          "color": "red",
          "width": 1
         },
         "lon": [
          31.119722222199997,
          28.246
         ],
         "mode": "lines",
         "opacity": 0.6,
         "showlegend": false,
         "type": "scattergeo",
         "uid": "7033c53a-b0f0-4e48-8c8f-cd9fd51d4ea4",
         "visible": false
        },
        {
         "hoverinfo": "skip",
         "lat": [
          4.70159,
          3.54322
         ],
         "line": {
          "color": "red",
          "width": 1
         },
         "lon": [
          -74.1469,
          -76.3816
         ],
         "mode": "lines",
         "opacity": 0.6,
         "showlegend": false,
         "type": "scattergeo",
         "uid": "138d4992-e706-4216-9bd0-7f0bc63e2733",
         "visible": false
        },
        {
         "hoverinfo": "skip",
         "lat": [
          13.681099891662598,
          8.1132
         ],
         "line": {
          "color": "red",
          "width": 1
         },
         "lon": [
          100.74700164794922,
          98.316902
         ],
         "mode": "lines",
         "opacity": 0.6,
         "showlegend": false,
         "type": "scattergeo",
         "uid": "f386d7dd-750d-4860-90da-37b32586608b",
         "visible": false
        },
        {
         "hoverinfo": "skip",
         "lat": [
          51.4706,
          25.252799987800003
         ],
         "line": {
          "color": "red",
          "width": 1
         },
         "lon": [
          -0.461941,
          55.3643989563
         ],
         "mode": "lines",
         "opacity": 0.6,
         "showlegend": false,
         "type": "scattergeo",
         "uid": "70479fa4-e51a-4839-9151-e731f67f5a45",
         "visible": false
        }
       ],
       "_js2py_restyle": {},
       "_js2py_update": {},
       "_last_layout_edit_id": 4,
       "_layout": {
        "autosize": true,
        "geo": {
         "projection": {
          "rotation": {
           "lat": 37.62732590708027,
           "lon": 67.82114448572118
          },
          "scale": 1,
          "type": "orthographic"
         },
         "showcountries": true,
         "showland": true,
         "showocean": true,
         "uirevision": true
        },
        "template": {}
       },
       "_model_module_version": "0.8.0",
       "_py2js_addTraces": {},
       "_py2js_animate": {},
       "_py2js_deleteTraces": {},
       "_py2js_moveTraces": {},
       "_py2js_removeLayoutProps": {},
       "_py2js_removeTraceProps": {},
       "_py2js_restyle": {},
       "_py2js_update": {},
       "_view_count": 0,
       "_view_module_version": "0.8.0"
      }
     }
    },
    "version_major": 2,
    "version_minor": 0
   }
  }
 },
 "nbformat": 4,
 "nbformat_minor": 2
}
